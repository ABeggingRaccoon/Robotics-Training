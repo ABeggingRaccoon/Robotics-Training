{
 "cells": [
  {
   "cell_type": "markdown",
   "metadata": {},
   "source": [
    "[Table of Contents](../../index.ipynb)"
   ]
  },
  {
   "cell_type": "markdown",
   "metadata": {},
   "source": [
    "# FRC Analytics with Python - Session 12\n",
    "# Working with Text Part I\n",
    "**Last Updated: 23 April 2021**\n",
    "\n",
    "## I. Introduction\n",
    "Modern programming languages have many tools and techniques for working with textual data. That's a good thing, because textual data is everywhere. We'll cover string literals, concatenation, formatting, text encoding, and string methods in this session. In the next session (Part II), we'll cover regular expressions and tools for manipulating text in Pandas dataframes."
   ]
  },
  {
   "cell_type": "markdown",
   "metadata": {},
   "source": [
    "## II. String Literals\n",
    "\n",
    "### A. This is Literally a Review of Literal Strings\n",
    "By now, you should be proficient with using single or double quotation marks to create a string literal."
   ]
  },
  {
   "cell_type": "code",
   "execution_count": 1,
   "metadata": {},
   "outputs": [
    {
     "name": "stdout",
     "output_type": "stream",
     "text": [
      "This string uses double quotes.\n",
      "And this string uses single quotes.\n"
     ]
    }
   ],
   "source": [
    "print(\"This string uses double quotes.\")\n",
    "print('And this string uses single quotes.')"
   ]
  },
  {
   "cell_type": "markdown",
   "metadata": {},
   "source": [
    "Here is what the [Google Python Style Guide](https://google.github.io/styleguide/pyguide.html#s3.10-strings) says about using single or double quotes for stings:\n",
    "> Be consistent with your choice of string quote character within a file. Pick ' or \" and stick with it. It is okay to use the other quote character on a string to avoid the need to \\\\ escape within the string.\n",
    "\n",
    "Furthermore, if you are working on a group programming project, choose which style you will use as a group, and everyone should stick to it.\n",
    "\n",
    "### B. Multi-Line Strings\n",
    "There is a third type of literal string called a mult-line string. See the example below:"
   ]
  },
  {
   "cell_type": "code",
   "execution_count": 2,
   "metadata": {},
   "outputs": [
    {
     "name": "stdout",
     "output_type": "stream",
     "text": [
      "\n",
      "  My brother built a robot \n",
      "that does not exactly work, \n",
      "as soon as it was finished, \n",
      "it began to go berserk, \n",
      "its eyes grew incandescent \n",
      "and its nose appeared to gleam, \n",
      "it bellowed unbenignly \n",
      "and its ears emitted steam. \n",
      "\n"
     ]
    }
   ],
   "source": [
    "# Multi-line String cell #1\n",
    "print(\"\"\"\n",
    "  My brother built a robot \n",
    "that does not exactly work, \n",
    "as soon as it was finished, \n",
    "it began to go berserk, \n",
    "its eyes grew incandescent \n",
    "and its nose appeared to gleam, \n",
    "it bellowed unbenignly \n",
    "and its ears emitted steam. \n",
    "\"\"\")\n",
    "# First verse of the poem My Brother Built a Robot by Jack Prelutsky"
   ]
  },
  {
   "cell_type": "markdown",
   "metadata": {},
   "source": [
    "The multi-line string preserves all spaces and line breaks. Multi-line strings can also be created with single quotes, but that practice is discouraged."
   ]
  },
  {
   "cell_type": "code",
   "execution_count": 3,
   "metadata": {},
   "outputs": [
    {
     "name": "stdout",
     "output_type": "stream",
     "text": [
      "\n",
      "      Please dont use\n",
      "          single quotes to\n",
      "              create a multi-line\n",
      "                  string.\n"
     ]
    }
   ],
   "source": [
    "# Multi-line String cell #2\n",
    "def single_quoted_multiline():\n",
    "    print('''\n",
    "      Please dont use\n",
    "          single quotes to\n",
    "              create a multi-line\n",
    "                  string.''')\n",
    "    \n",
    "single_quoted_multiline()"
   ]
  },
  {
   "cell_type": "markdown",
   "metadata": {},
   "source": [
    "Look carefully at the horizontal alignment of the output for *Multi-line String cell #1* and *Multi-line String cell #2*. See how the output of cell #2 starts farther to the right than cell #1? This is becuase the multi-line string includes the spaces used for indentation within the function. If you don't want the lines to be indented, do this:"
   ]
  },
  {
   "cell_type": "code",
   "execution_count": 4,
   "metadata": {},
   "outputs": [
    {
     "name": "stdout",
     "output_type": "stream",
     "text": [
      "The textwrap module contains\n",
      "several useful functions for manipulating strings. Check\n",
      "it out in the documentation for the Python Standard\n",
      "Library!\n"
     ]
    }
   ],
   "source": [
    "def wrong_way():\n",
    "    print(\"\"\"This technique\n",
    "for avoiding leading spaces at\n",
    "the beginning of mult-line strings\n",
    "works, but it looks ugly because\n",
    "it does not comply with Python rules\n",
    "for indentation. Try not to do this.\"\"\")\n",
    "    \n",
    "import textwrap    \n",
    "\n",
    "def using_dedent():\n",
    "    long_string = textwrap.dedent(\"\"\"\\\n",
    "        The textwrap module contains\n",
    "        several useful functions for manipulating strings. Check\n",
    "        it out in the documentation for the Python Standard\n",
    "        Library!\"\"\")\n",
    "    return long_string\n",
    "    \n",
    "print(using_dedent())"
   ]
  },
  {
   "cell_type": "markdown",
   "metadata": {},
   "source": [
    "The `dedent()` function in the [Standard Library's *textwrap* module](https://docs.python.org/3/library/textwrap.html) removes common leading whitespace from the beginning of each line. By *common*, we mean that the function only works if each line has the exact same amount of leading whitespace. The backslash at the beginning of the string prevents a blank line from being printed."
   ]
  },
  {
   "cell_type": "markdown",
   "metadata": {},
   "source": [
    "## III. There's no Escaping Escape Sequences\n",
    "Strings can contain sequences of characters with special meaning, called escape sequences. We'll cover the following escape sequences:\n",
    "* Quotation Marks `\\'` and `\\\"`\n",
    "* Newline character: `\\n`\n",
    "* Horizontal tab character: `\\t`\n",
    "* Backslash: `\\\\`\n",
    "\n",
    "Escape sequences occur in several programming langauges, including Python, Java, and C++."
   ]
  },
  {
   "cell_type": "markdown",
   "metadata": {},
   "source": [
    "### A. Escaping Quotation Marks\n",
    "We use single quotes (') and double quotes (\") to delimit literal strings. There are a couple techniques we can use if we want our string to include quotation marks."
   ]
  },
  {
   "cell_type": "code",
   "execution_count": 5,
   "metadata": {},
   "outputs": [],
   "source": [
    "# Option 1: Use double quotes for strings with single quotes and vice versa\n",
    "scott_adams_quote = [\n",
    "    \"Normal people believe that if it ain’t broke, don’t fix it.\",\n",
    "    \"Engineers believe that if it ain’t broke, it doesn’t have enough features yet.\"]\n",
    "\n",
    "radio_quote = 'Reginald went on to ask \"Is it snowing where you are, Mr. Thiessen?\"'"
   ]
  },
  {
   "cell_type": "markdown",
   "metadata": {},
   "source": [
    "If your text includes both single or double quotes, use the corresponding escape seqence."
   ]
  },
  {
   "cell_type": "code",
   "execution_count": 6,
   "metadata": {},
   "outputs": [
    {
     "name": "stdout",
     "output_type": "stream",
     "text": [
      "Chief Brody said \"You're going to need a bigger boat.\"\n"
     ]
    }
   ],
   "source": [
    "# Example of an escape sequence for a single quote.\n",
    "print('Chief Brody said \"You\\'re going to need a bigger boat.\"')"
   ]
  },
  {
   "cell_type": "markdown",
   "metadata": {},
   "source": [
    "### B. Newline Sequence\n",
    "We can cause a string to print on more than one line by inserting a newline character. We insert a newline character with a newline escape sequence. "
   ]
  },
  {
   "cell_type": "code",
   "execution_count": 7,
   "metadata": {},
   "outputs": [
    {
     "data": {
      "text/plain": [
       "'This is line 1.\\nThis is line 2.'"
      ]
     },
     "execution_count": 7,
     "metadata": {},
     "output_type": "execute_result"
    }
   ],
   "source": [
    "multi_line_string = \"This is line 1.\\nThis is line 2.\"\n",
    "multi_line_string"
   ]
  },
  {
   "cell_type": "markdown",
   "metadata": {},
   "source": [
    "So far, the results are not very impressive. The notebook is just displaying the newline character in the string. The outcome is better if we pass the string to the `print()` function."
   ]
  },
  {
   "cell_type": "code",
   "execution_count": 8,
   "metadata": {},
   "outputs": [
    {
     "name": "stdout",
     "output_type": "stream",
     "text": [
      "This is line 1.\n",
      "This is line 2.\n"
     ]
    }
   ],
   "source": [
    "print(multi_line_string)"
   ]
  },
  {
   "cell_type": "markdown",
   "metadata": {},
   "source": [
    "Here is another example of newline sequences. Do note that escape sequences use the *back* slash, which should be above your keyboard's ENTER key. The *forward* slash (below the question mark) won't work."
   ]
  },
  {
   "cell_type": "code",
   "execution_count": 9,
   "metadata": {},
   "outputs": [
    {
     "name": "stdout",
     "output_type": "stream",
     "text": [
      "My brother built that robot\n",
      "to help us clean our room,\n",
      "instead, it ate the dust pan\n",
      "and attacked us with the broom,\n",
      "it pulled apart our pillows,\n",
      "it disheveled both our beds,\n",
      "it took a box of crayons\n",
      "and it doodled on our heads.\n",
      "\n"
     ]
    }
   ],
   "source": [
    "robot_poem_verse2 = (\n",
    "    \"My brother built that robot\\n\"\n",
    "    \"to help us clean our room,\\n\"\n",
    "    \"instead, it ate the dust pan\\n\"\n",
    "    \"and attacked us with the broom,\\n\"\n",
    "    \"it pulled apart our pillows,\\n\"\n",
    "    \"it disheveled both our beds,\\n\"\n",
    "    \"it took a box of crayons\\n\"\n",
    "    \"and it doodled on our heads.\\n\"\n",
    ")\n",
    "print(robot_poem_verse2)"
   ]
  },
  {
   "cell_type": "markdown",
   "metadata": {},
   "source": [
    "The example above demonstrates a couple other useful techniques:\n",
    "* Parentheses allow us to split long Python statements onto several lines. The result looks much nicer than long lines that require horizontal scrolling!\n",
    "* We can join string literals in Python into a longer string by just typing them next to each other, with whitespace in between. This only works with string *literals*. If you try to join a literal string and a variable containing a string using this syntax, you'll get an error."
   ]
  },
  {
   "cell_type": "code",
   "execution_count": 10,
   "metadata": {},
   "outputs": [
    {
     "ename": "SyntaxError",
     "evalue": "invalid syntax (Temp/ipykernel_15364/3301733843.py, line 3)",
     "output_type": "error",
     "traceback": [
      "\u001b[1;36m  File \u001b[1;32m\"C:\\Users\\pperv\\AppData\\Local\\Temp/ipykernel_15364/3301733843.py\"\u001b[1;36m, line \u001b[1;32m3\u001b[0m\n\u001b[1;33m    print(multi_line_string \"\\nThis is line 3.\")\u001b[0m\n\u001b[1;37m                            ^\u001b[0m\n\u001b[1;31mSyntaxError\u001b[0m\u001b[1;31m:\u001b[0m invalid syntax\n"
     ]
    }
   ],
   "source": [
    "# Causes an error\n",
    "\n",
    "print(multi_line_string \"\\nThis is line 3.\")"
   ]
  },
  {
   "cell_type": "markdown",
   "metadata": {},
   "source": [
    "### C. Horizontal Tab\n",
    "The horizontal tab sequence, `\\t`, helps us indent or align text. "
   ]
  },
  {
   "cell_type": "code",
   "execution_count": 11,
   "metadata": {},
   "outputs": [
    {
     "name": "stdout",
     "output_type": "stream",
     "text": [
      "Team Number\t Team Name\t\t Rookie Year\n",
      "360\t\t The Revolution\t\t 2000\n",
      "488\t\t Team XBot\t\t 2000\n",
      "492\t\t Titan Robotics Club\t 2001\n",
      "568\t\t Nerds of the North\t 2001\n"
     ]
    }
   ],
   "source": [
    "print(\"Team Number\\t\", \"Team Name\\t\\t\", \"Rookie Year\")\n",
    "print(\"360\\t\\t\", \"The Revolution\\t\\t\", \"2000\")\n",
    "print(\"488\\t\\t\", \"Team XBot\\t\\t\", \"2000\")\n",
    "print(\"492\\t\\t\", \"Titan Robotics Club\\t\", \"2001\")\n",
    "print(\"568\\t\\t\", \"Nerds of the North\\t\", \"2001\")"
   ]
  },
  {
   "cell_type": "markdown",
   "metadata": {},
   "source": [
    "The first text to be displayed after a horizontal tab escape sequence (`\\t`) will be placed at the next tab stop. On most systems the tab stops are about eight characters apart.\n",
    "\n",
    "The concept of a tab stop comes from manual typewriters. If you wanted to type a document with data in columns, you would place metal clips onto a tab bar within the typewriter. The position of the clip corresponded to a horizontal position on the page. When you hit the tab key on the typewriter, the typewriter carriage would slide to the left until it hit the mechanical tab stop. The tab stops are visible in the image below - they are the dark grey rectangular clips.\n",
    "\n",
    "![Tab Stops2](images/tab_stops2.jpg)"
   ]
  },
  {
   "cell_type": "markdown",
   "metadata": {},
   "source": [
    "### D. Back Slash\n",
    "If you want your string to include a back slash, you need to escape it with a backslash."
   ]
  },
  {
   "cell_type": "code",
   "execution_count": 12,
   "metadata": {},
   "outputs": [
    {
     "name": "stdout",
     "output_type": "stream",
     "text": [
      "This string contains a backslash: \\\n"
     ]
    }
   ],
   "source": [
    "print(\"This string contains a backslash: \\\\\")"
   ]
  },
  {
   "cell_type": "markdown",
   "metadata": {},
   "source": [
    "### E. Raw Strings\n",
    "If you have a string that contains a lot of back slashes, it's often easier to use a raw string instead of escaping all of the back slashes. Raw strings are created by prepending a literal string with 'r'. The catch is that escape sequences don't work in a raw string."
   ]
  },
  {
   "cell_type": "code",
   "execution_count": 18,
   "metadata": {},
   "outputs": [
    {
     "name": "stdout",
     "output_type": "stream",
     "text": [
      "This is a raw string. None of these escapse sequences work: \\n \\t \\\\\n"
     ]
    }
   ],
   "source": [
    "# Raw Strings\n",
    "print(r\"This is a raw string. None of these escapse sequences work: \\n \\t \\\\\")"
   ]
  },
  {
   "cell_type": "markdown",
   "metadata": {},
   "source": [
    "### F. Exercises\n",
    "\n",
    "**Ex. III.1** Use escape sequences to create a string that looks like this when it's printed:\n",
    "```\n",
    "/\\\n",
    "\\/  /\\\n",
    "\t\\/\n",
    "```\n",
    "Don't use a multi-line string. The string should only contain escape sequences and the forwards slash (\"/\")."
   ]
  },
  {
   "cell_type": "code",
   "execution_count": 23,
   "metadata": {},
   "outputs": [
    {
     "name": "stdout",
     "output_type": "stream",
     "text": [
      "/\\\n",
      "\\/  /\\\n",
      "    \\/\n"
     ]
    }
   ],
   "source": [
    "# Exercise III.1\n",
    "# Replace the empty string per the exercise instructions\n",
    "ex1_string = \"/\\\\\\n\\\\/  /\\\\\\n    \\\\/\" \n",
    "print(ex1_string)"
   ]
  },
  {
   "cell_type": "markdown",
   "metadata": {},
   "source": [
    "## IV. Concatenating Strings and Variables\n",
    "Concatenating is a fancy word for sticking two things together, and it is often used in programming to refer to the act of making a larger string out of two or more smaller strings. There are several ways to assemble larger strings from smaller strings, including the plus (`+`) operator, the `print()` function, the `.join()` method"
   ]
  },
  {
   "cell_type": "markdown",
   "metadata": {},
   "source": [
    "### A. Concatenating with the `print()` Function\n",
    "The print function can be used to convert all of its arguments to strings and concatenate them. By default, each argument is separated by a space."
   ]
  },
  {
   "cell_type": "code",
   "execution_count": 24,
   "metadata": {},
   "outputs": [
    {
     "name": "stdout",
     "output_type": "stream",
     "text": [
      "George Washington Carver was born in 1864 .\n"
     ]
    }
   ],
   "source": [
    "# Joining strings with `+`\n",
    "name = \"George Washington Carver\"\n",
    "year = \"1864\"\n",
    "\n",
    "print(name, \"was born in\", year, \".\")"
   ]
  },
  {
   "cell_type": "markdown",
   "metadata": {},
   "source": [
    "The `print()` function takes two named parameters `sep` and `end`. We can use these named parameters to change the `print()` function's behavior.\n",
    "\n",
    "The `sep` parameter specifies which character is used to separate the arguments that are passed to the `print()` function. For example, the following code separates items in the print statement with a hyphen:"
   ]
  },
  {
   "cell_type": "code",
   "execution_count": 25,
   "metadata": {},
   "outputs": [
    {
     "name": "stdout",
     "output_type": "stream",
     "text": [
      "1-2-3-4-5\n"
     ]
    }
   ],
   "source": [
    "# Specifying a different separator\n",
    "print(1, 2, 3, 4, 5, sep=\"-\")"
   ]
  },
  {
   "cell_type": "markdown",
   "metadata": {},
   "source": [
    "Or we could print each element on a separate line."
   ]
  },
  {
   "cell_type": "code",
   "execution_count": 27,
   "metadata": {},
   "outputs": [
    {
     "name": "stdout",
     "output_type": "stream",
     "text": [
      "1\n",
      "2\n",
      "3\n",
      "4\n",
      "5\n"
     ]
    }
   ],
   "source": [
    "# Printing each argument on a different line\n",
    "print(1, 2, 3, 4, 5, sep=\"\\n\")"
   ]
  },
  {
   "cell_type": "markdown",
   "metadata": {},
   "source": [
    "The `end` parameter specifies what character is placed at the end of the `print()` function's output."
   ]
  },
  {
   "cell_type": "code",
   "execution_count": 28,
   "metadata": {},
   "outputs": [
    {
     "name": "stdout",
     "output_type": "stream",
     "text": [
      "1 2 3 4 5: And that's all there is!"
     ]
    }
   ],
   "source": [
    "print(1, 2, 3, 4, 5, end=\": And that's all there is!\")"
   ]
  },
  {
   "cell_type": "markdown",
   "metadata": {},
   "source": [
    "Setting `end` to a space allows successive print statements to all print on the same line."
   ]
  },
  {
   "cell_type": "code",
   "execution_count": 29,
   "metadata": {},
   "outputs": [
    {
     "name": "stdout",
     "output_type": "stream",
     "text": [
      "1 2 3 4 5 "
     ]
    }
   ],
   "source": [
    "print(1, end = \" \")\n",
    "print(2, end = \" \")\n",
    "print(3, end = \" \")\n",
    "print(4, end = \" \")\n",
    "print(5, end = \" \")"
   ]
  },
  {
   "cell_type": "markdown",
   "metadata": {},
   "source": [
    "Using the `print()` function to join strings has a significant shortcoming. The strings can only be sent to standard output. They cannot be saved to a variable. Check out the code below."
   ]
  },
  {
   "cell_type": "code",
   "execution_count": 30,
   "metadata": {},
   "outputs": [
    {
     "name": "stdout",
     "output_type": "stream",
     "text": [
      "George Washington Carver was born in 1864 .\n",
      "None\n"
     ]
    }
   ],
   "source": [
    "string_var = print(name, \"was born in\", year, \".\")\n",
    "print(string_var)"
   ]
  },
  {
   "cell_type": "markdown",
   "metadata": {},
   "source": [
    "When we try to print `string_var`, all we see is the value `None`. This is because the `print()` function does not return the string that it creates. It returns the `None` value instead. We'll need to use other techniques if we want to save a concatenated string to a variable"
   ]
  },
  {
   "cell_type": "markdown",
   "metadata": {},
   "source": [
    "### B. The `+` Operator\n",
    "First, we'll review how to use the plus (`+`) operator."
   ]
  },
  {
   "cell_type": "code",
   "execution_count": 31,
   "metadata": {},
   "outputs": [
    {
     "name": "stdout",
     "output_type": "stream",
     "text": [
      "Gladys West was born in 1930.\n"
     ]
    }
   ],
   "source": [
    "# Joining strings with `+`\n",
    "name = \"Gladys West\"\n",
    "year = \"1930\"\n",
    "\n",
    "statement = name + \" was born in \" + year + \".\"\n",
    "print(statement)"
   ]
  },
  {
   "cell_type": "markdown",
   "metadata": {},
   "source": [
    "Note that the `+` operator only works if both of it's operands (i.e., the items on either side of the `+`) are strings. The following statement resuls in an error -- can you see why?"
   ]
  },
  {
   "cell_type": "code",
   "execution_count": 32,
   "metadata": {},
   "outputs": [
    {
     "ename": "TypeError",
     "evalue": "can only concatenate str (not \"int\") to str",
     "output_type": "error",
     "traceback": [
      "\u001b[1;31m---------------------------------------------------------------------------\u001b[0m",
      "\u001b[1;31mTypeError\u001b[0m                                 Traceback (most recent call last)",
      "\u001b[1;32m~\\AppData\\Local\\Temp/ipykernel_15364/2661794849.py\u001b[0m in \u001b[0;36m<module>\u001b[1;34m\u001b[0m\n\u001b[0;32m      3\u001b[0m \u001b[0myear\u001b[0m \u001b[1;33m=\u001b[0m \u001b[1;36m1894\u001b[0m\u001b[1;33m\u001b[0m\u001b[1;33m\u001b[0m\u001b[0m\n\u001b[0;32m      4\u001b[0m \u001b[1;33m\u001b[0m\u001b[0m\n\u001b[1;32m----> 5\u001b[1;33m \u001b[0mstatement\u001b[0m \u001b[1;33m=\u001b[0m \u001b[0mname\u001b[0m \u001b[1;33m+\u001b[0m \u001b[1;34m\" was born in \"\u001b[0m \u001b[1;33m+\u001b[0m \u001b[0myear\u001b[0m \u001b[1;33m+\u001b[0m \u001b[1;34m\".\"\u001b[0m\u001b[1;33m\u001b[0m\u001b[1;33m\u001b[0m\u001b[0m\n\u001b[0m\u001b[0;32m      6\u001b[0m \u001b[0mprint\u001b[0m\u001b[1;33m(\u001b[0m\u001b[0mstatement\u001b[0m\u001b[1;33m)\u001b[0m\u001b[1;33m\u001b[0m\u001b[1;33m\u001b[0m\u001b[0m\n",
      "\u001b[1;31mTypeError\u001b[0m: can only concatenate str (not \"int\") to str"
     ]
    }
   ],
   "source": [
    "# Joining strings with `+`\n",
    "name = \"Satyendra Nath Bose\"\n",
    "year = 1894\n",
    "\n",
    "statement = name + \" was born in \" + year + \".\"\n",
    "print(statement)"
   ]
  },
  {
   "cell_type": "markdown",
   "metadata": {},
   "source": [
    "The `+` operator behaves differently depending on the data type of its operands. If both operands are numeric, it adds both operands and returns the sum. If both operands are stings, it creates a longer string by joining both strings. But if one operand is numeric and one is a string, the `+` operator doesn't know what you want to do, so it throws an error."
   ]
  },
  {
   "cell_type": "markdown",
   "metadata": {},
   "source": [
    "### C. F-Strings and the `.format()` Method\n",
    "Assembling strings from multiple substrings with the `+` operator can get tedious. For Python version 3.8 or later, F-strings can be used to concatenate multiple values into a string, with less hassle.\n",
    "\n",
    "Python 3.8 was released in October 2019. First, let's verify our Python version is at least 3.8."
   ]
  },
  {
   "cell_type": "code",
   "execution_count": 33,
   "metadata": {},
   "outputs": [
    {
     "name": "stdout",
     "output_type": "stream",
     "text": [
      "3.9.7 (default, Sep 16 2021, 16:59:28) [MSC v.1916 64 bit (AMD64)]\n"
     ]
    }
   ],
   "source": [
    "import sys\n",
    "\n",
    "# Verify Python version \n",
    "print(sys.version)"
   ]
  },
  {
   "cell_type": "markdown",
   "metadata": {},
   "source": [
    "Now let's check out our first F-string."
   ]
  },
  {
   "cell_type": "code",
   "execution_count": 34,
   "metadata": {},
   "outputs": [
    {
     "data": {
      "text/plain": [
       "'The square root of 2 is 1.4142135623730951.'"
      ]
     },
     "execution_count": 34,
     "metadata": {},
     "output_type": "execute_result"
    }
   ],
   "source": [
    "import math\n",
    "\n",
    "# F-String example\n",
    "num = 2\n",
    "f\"The square root of {num} is {math.sqrt(num)}.\""
   ]
  },
  {
   "cell_type": "markdown",
   "metadata": {},
   "source": [
    "F-strings are created by prepending a literal string with the letter `f`. The curly braces and everything inside them are called replacement fields. The text inside the replacement fields are interpreted as Python code. In the previous example, the value of the variable `num` was converted to a string and inserted into the string. In the second replacement field we calculated the square root of 2.\n",
    "\n",
    "F-strings work with double quotes, single quotes, and multi-line strings.\n",
    "\n",
    "But what if you are using an earlier version of Python? Or you just don't like adding an `f` to the front of your strings? In that case, use the string object's `.format()` method."
   ]
  },
  {
   "cell_type": "code",
   "execution_count": 35,
   "metadata": {},
   "outputs": [
    {
     "data": {
      "text/plain": [
       "'The square root of 2 is 1.4142135623730951'"
      ]
     },
     "execution_count": 35,
     "metadata": {},
     "output_type": "execute_result"
    }
   ],
   "source": [
    "# .format() method\n",
    "\"The square root of {} is {}\".format(num, math.sqrt(num))"
   ]
  },
  {
   "cell_type": "markdown",
   "metadata": {},
   "source": [
    "When using the `.format()` method, you create replacement fields by entering pairs of curly braces in the string, and then call the `.format()` method on the string literal. The arguments that are passed to the `.format()` method are inserted into the replacement fields, with the first argument being placed in the first replacement field, the second argument in the second field, etc.\n",
    "\n",
    "The `.format()` method also supports named replacement fields, where the name within the curly braces corresponds to a named argument passed to the `.format()` method. When using named replacement fields, the order of arguments to the `.format()` method does not matter."
   ]
  },
  {
   "cell_type": "code",
   "execution_count": 36,
   "metadata": {},
   "outputs": [
    {
     "data": {
      "text/plain": [
       "'The square root of 3 is 1.7320508075688772'"
      ]
     },
     "execution_count": 36,
     "metadata": {},
     "output_type": "execute_result"
    }
   ],
   "source": [
    "# Using .format() with named arguments\n",
    "\"The square root of {num} is {sqrt}\".format(sqrt=math.sqrt(3), num=3)"
   ]
  },
  {
   "cell_type": "markdown",
   "metadata": {},
   "source": [
    "F-strings provide numerous formatting options. For example, suppose we only want four significant digits in the square root value, and we want the number 2 to be padded with zeros so it always fills three spaces:"
   ]
  },
  {
   "cell_type": "code",
   "execution_count": 37,
   "metadata": {},
   "outputs": [
    {
     "data": {
      "text/plain": [
       "'The square root of 002 is 1.414.'"
      ]
     },
     "execution_count": 37,
     "metadata": {},
     "output_type": "execute_result"
    }
   ],
   "source": [
    "f\"The square root of {num:03} is {math.sqrt(2):.3f}.\""
   ]
  },
  {
   "cell_type": "markdown",
   "metadata": {},
   "source": [
    "In the replacement fields, everything after the colon is part of the format specification, or format_spec for short. In the first field, the format_spec `03` specifies that the number should take up at least three characters and be padded with zeros if the number is less than three characters. The second format_spec `.3f` indicates that there should be three digits to the right of the decimal and that the number should be formatted as a fixed point value.\n",
    "\n",
    "There are numerous options for format_specs. The official reference is here: https://docs.python.org/3/library/string.html#formatspec. Additional guidance is avaialable at https://www.w3schools.com/python/ref_string_format.asp and https://realpython.com/python-formatted-output/#f-string-formatting.\n",
    "\n",
    "Here are some additional examples of format specifications."
   ]
  },
  {
   "cell_type": "code",
   "execution_count": 38,
   "metadata": {},
   "outputs": [
    {
     "name": "stdout",
     "output_type": "stream",
     "text": [
      "1318 in scientific notation is 1.318E+03\n",
      "\n",
      "Our team number squared is: 1,737,124\n",
      "\n",
      "Team number: \t\t\t 1318\n",
      "Binary team number: \t\t 10100100110\n",
      "Octal team number: \t\t 2446\n",
      "Hexadecimal team number: \t 526\n",
      "\n",
      "\n",
      "Team #\t\t___________Team Name____________\n",
      "   492\t\t_______Nerds of the North_______\n",
      "  1318\t\t_The Issaquah Robotics Society__\n",
      "  2046\t\t___________Bear Metal___________\n",
      "  4131\t\t_________Iron Patriouts_________\n"
     ]
    }
   ],
   "source": [
    "# Scientific Notation: 'E' is for scientific notation\n",
    "team_num = 1318\n",
    "print(f\"{team_num} in scientific notation is {team_num:.3E}\")\n",
    "\n",
    "# Use a comma as a digits separator\n",
    "print()\n",
    "print(f\"Our team number squared is: {1318**2:,}\")\n",
    "\n",
    "# Display a number as binary, octal, or hexadecimal\n",
    "print(f\"\"\"\n",
    "Team number: \\t\\t\\t 1318\n",
    "Binary team number: \\t\\t {1318:b}\n",
    "Octal team number: \\t\\t {1318:o}\n",
    "Hexadecimal team number: \\t {1318:x}\n",
    "\"\"\")\n",
    "\n",
    "# Aligning and Padding Strings\n",
    "# '>' means right-align, '^' means center\n",
    "#   (and '<' means left align, but it's not used in this example)\n",
    "# The number to the right of '>' or '^' specifies the width of the field.\n",
    "# The character to the left of '^' specifies what character to use to pad\n",
    "#   the field. The default is a blank space.\n",
    "print()\n",
    "teams = [(\"Team #\", \"Team Name\"), (492, \"Nerds of the North\"), (1318, \"The Issaquah Robotics Society\"),\n",
    "         (2046, \"Bear Metal\"), (4131, \"Iron Patriouts\")]\n",
    "for team in teams:\n",
    "    print(f\"{team[0]:>6}\\t\\t{team[1]:_^32}\")"
   ]
  },
  {
   "cell_type": "markdown",
   "metadata": {},
   "source": [
    "### D. The `.join()` Method\n",
    "\n",
    "Suppose you need to incrementally build a string in steps. You might be tempted to write code that looks like this:"
   ]
  },
  {
   "cell_type": "code",
   "execution_count": 39,
   "metadata": {},
   "outputs": [
    {
     "name": "stdout",
     "output_type": "stream",
     "text": [
      "1 cookies, ah ah ahhhhh!\n",
      "2 cookies, ah ah ahhhhh!\n",
      "3 cookies, ah ah ahhhhh!\n",
      "\n"
     ]
    }
   ],
   "source": [
    "the_Count = \"\"\n",
    "for idx in range(1, 4):\n",
    "    the_Count = the_Count + str(idx) + \" cookies, ah ah ahhhhh!\\n\"\n",
    "\n",
    "print(the_Count)"
   ]
  },
  {
   "cell_type": "markdown",
   "metadata": {},
   "source": [
    "Using a for loop to build a string like this works fine, a long as our strings are short and there are not a huge number of iterations in our loop. The problem with this approach is that strings are immutable. What's actually happeninig is that every time we go through the loop, Python has to throw away the string currently stored in `the_Count` and allocate memory for a completely new string. It's as if you are assigned to write a term paper. You won't be able to write it all in one sitting because it's a long paper. After you write the first few paragraphs, instead of saving the document, you print it out and then delete the document file. The next time you sit down to work on the term paper, you use the hardcopy to re-type everything you've written so far, and only after that do you start composing new paragraphs. As you can see, this is very inefficient. \n",
    "\n",
    "Even though a for loop will work fine for most of our robotics projects, knowledgeable programmers who review your code will notice, and we all want to make a good impression!\n",
    "\n",
    "The `.join()` method can help us out in this situation."
   ]
  },
  {
   "cell_type": "code",
   "execution_count": 40,
   "metadata": {},
   "outputs": [
    {
     "name": "stdout",
     "output_type": "stream",
     "text": [
      "List of Strings\n",
      "['1 cookies, ah ah ahhhhh!', '2 cookies, ah ah ahhhhh!', '3 cookies, ah ah ahhhhh!']\n",
      "\n",
      "Joined Strings\n",
      "1 cookies, ah ah ahhhhh!\n",
      "2 cookies, ah ah ahhhhh!\n",
      "3 cookies, ah ah ahhhhh!\n"
     ]
    }
   ],
   "source": [
    "# Create list of strings\n",
    "str_list = [str(idx) + \" cookies, ah ah ahhhhh!\" for idx in range(1, 4)]\n",
    "print(\"List of Strings\")\n",
    "print(str_list)\n",
    "\n",
    "# Use .join() to create one string from entire list\n",
    "print()\n",
    "print(\"Joined Strings\")\n",
    "print(\"\\n\".join(str_list))"
   ]
  },
  {
   "cell_type": "markdown",
   "metadata": {},
   "source": [
    "The `.join()` method takes a list of strings as an argument. You call the `.join()` method on the string that you will use to separate the individual substrings from the list. IN the previous example, we called the `.join()` method on a string containing the newline escape sequence, which caused each list element to be printed on a new line. This does some a bit backwards - calling `.join()` on the list and passing the separator string seems more natural, but would be problematic since lists can contain any type of object, not just strings.\n",
    "\n",
    "The `.join()` method is more efficient because it only creates a new string once. It's as if, for your term paper, you wrote and saved each section in it's own file, and then copied the contents of each file into the final document just once, after all sections were written.\n",
    "\n",
    "Here are examples of using `.join()` with different separators."
   ]
  },
  {
   "cell_type": "code",
   "execution_count": 41,
   "metadata": {},
   "outputs": [
    {
     "name": "stdout",
     "output_type": "stream",
     "text": [
      "01234\n",
      "0 1 2 3 4\n",
      "1 and a 2 and a 3 and a 4\n"
     ]
    }
   ],
   "source": [
    "# No seperation between list elements\n",
    "print(\"\".join([str(i) for i in range(5)]))\n",
    "\n",
    "# Separate list elements with a space\n",
    "print(\" \".join([str(i) for i in range(5)]))\n",
    "\n",
    "# Separate list elements with a space\n",
    "print(\" and a \".join([str(i) for i in range(1, 5)]))"
   ]
  },
  {
   "cell_type": "markdown",
   "metadata": {},
   "source": [
    "### E. The `%` Operator\n",
    "Python provides an older technique for string formatting that uses the `%` operator and is similar to what's used in the C language. The mentor thinks it's better to use F strings or the `.format()` method to format strings, but you might see the `%` operator technique if you are studying other people's code (which is a great way to learn!). We'll dicuss it briefly so you'll know what it is if you see it."
   ]
  },
  {
   "cell_type": "code",
   "execution_count": 42,
   "metadata": {},
   "outputs": [
    {
     "name": "stdout",
     "output_type": "stream",
     "text": [
      "Cynthia Breazeal was born in 1967.\n"
     ]
    }
   ],
   "source": [
    "ai_researcher = \"Cynthia Breazeal\"\n",
    "birth_year = 1967\n",
    "\n",
    "print(\"%s was born in %d.\" % (ai_researcher, birth_year))"
   ]
  },
  {
   "cell_type": "markdown",
   "metadata": {},
   "source": [
    "In this type of string formatting, replacement fields are denoted by a percent sign followed by the letter s, d, f, or x.\n",
    "* `%s` is for string values\n",
    "* `%d` is for integers\n",
    "* `%f` is for floating point numbers\n",
    "* `%.<number of digits>f` is for floating point numbers with a fixed number of digits\n",
    "* `%x` and `%X` are for integers in hexadecimal representation\n",
    "\n",
    "The format string is followed by the `%` operator, which is followed by a tuple of values. The length, order, and datatypes of the tuple must match the replacement fields in the format string."
   ]
  },
  {
   "cell_type": "markdown",
   "metadata": {},
   "source": [
    "### F. Exercises\n",
    "\n",
    "**Ex IV.1:** Use a for-loop, F-strings, and a print statement to create a table of integers from 1 to 10 and their natural logarithms.\n",
    "* Use the format string and escape sequences to create the columns. Each call to `print()` should have only one argument.\n",
    "* The first column will contain the integers.\n",
    "* The second column will contain the square roots. \n",
    "* Each logarithm should have 3 digits to the right of the decimal place, even if it's an integer.\n",
    "* There is a function to calculate logarithms in the standard library's *math* module."
   ]
  },
  {
   "cell_type": "code",
   "execution_count": 27,
   "metadata": {},
   "outputs": [
    {
     "name": "stdout",
     "output_type": "stream",
     "text": [
      "Integers\tSquare Roots\tNatural Log of Integers\n",
      "1.000\t\t1.000\t\t0.000\n",
      "2.000\t\t1.414\t\t0.693\n",
      "3.000\t\t1.732\t\t1.099\n",
      "4.000\t\t2.000\t\t1.386\n",
      "5.000\t\t2.236\t\t1.609\n",
      "6.000\t\t2.449\t\t1.792\n",
      "7.000\t\t2.646\t\t1.946\n",
      "8.000\t\t2.828\t\t2.079\n",
      "9.000\t\t3.000\t\t2.197\n",
      "10.000\t\t3.162\t\t2.303\n"
     ]
    }
   ],
   "source": [
    "# Ex IV.1\n",
    "import math;\n",
    "\n",
    "print(\"Integers\\tSquare Roots\\tNatural Log of Integers\")\n",
    "for i in range(1, 11):\n",
    "    print(f\"{i:.3f}\\t\\t{math.sqrt(i):.3f}\\t\\t{math.log(i):.3f}\")"
   ]
  },
  {
   "cell_type": "markdown",
   "metadata": {},
   "source": [
    "**Ex IV.2:** Repeat exercise IV.1, but use the `.format()` method instead of an F-string."
   ]
  },
  {
   "cell_type": "code",
   "execution_count": 30,
   "metadata": {},
   "outputs": [
    {
     "name": "stdout",
     "output_type": "stream",
     "text": [
      "Integers\tSquare Roots\tNatural Log of Integers\n",
      "1.000\t\t1.000\t\t0.000\n",
      "2.000\t\t1.414\t\t0.693\n",
      "3.000\t\t1.732\t\t1.099\n",
      "4.000\t\t2.000\t\t1.386\n",
      "5.000\t\t2.236\t\t1.609\n",
      "6.000\t\t2.449\t\t1.792\n",
      "7.000\t\t2.646\t\t1.946\n",
      "8.000\t\t2.828\t\t2.079\n",
      "9.000\t\t3.000\t\t2.197\n",
      "10.000\t\t3.162\t\t2.303\n"
     ]
    }
   ],
   "source": [
    "# Ex IV.2\n",
    "import math;\n",
    "\n",
    "print(\"Integers\\tSquare Roots\\tNatural Log of Integers\")\n",
    "for i in range(1, 11):\n",
    "    print(\"{:.3f}\\t\\t{:.3f}\\t\\t{:.3f}\".format(i, math.sqrt(i), math.log(i)))\n"
   ]
  },
  {
   "cell_type": "markdown",
   "metadata": {},
   "source": [
    "**Ex IV.3:** Use the `.join()` method and list comprehensions to convert the `teams` data to a comma separated value string.\n",
    "* First, call `.join()` within a list comprehension to create a list of strings, where each string consists of the items in the tuple joined with a comma.\n",
    "* Pass the list created with the list comprehension to `.join()` again to join the strings with newline characters.\n",
    "\n",
    "The result should look like this:\n",
    "`'Team #,Team Name\\n492,Nerds of the North\\n1318,The Issaquah Robotics Society\\n2046,Bear Metal\\n4131,Iron Patriots'`"
   ]
  },
  {
   "cell_type": "code",
   "execution_count": 84,
   "metadata": {},
   "outputs": [
    {
     "name": "stdout",
     "output_type": "stream",
     "text": [
      "Team #,Team Name,492,Nerds of the North,1318,The Issaquah Robotics Society,2046,Bear Metal,4131,Iron Patriots\n",
      "Team #,Team Name\n",
      "492,Nerds of the North\n",
      "1318,The Issaquah Robotics Society\n",
      "2046,Bear Metal\n",
      "4131,Iron Patriots\n"
     ]
    }
   ],
   "source": [
    "# Ex IV.3\n",
    "teams = [(\"Team #\", \"Team Name\"), (\"492\", \"Nerds of the North\"), (\"1318\", \"The Issaquah Robotics Society\"),\n",
    "         (\"2046\", \"Bear Metal\"), (\"4131\", \"Iron Patriots\")]\n",
    "\n",
    "print(\",\".join([team[0] + \",\" + team[1] for team in teams]))\n",
    "print(\"\\n\".join([team[0] + \",\" + team[1] for team in teams]))"
   ]
  },
  {
   "cell_type": "markdown",
   "metadata": {},
   "source": [
    "**Ex IV.4:** Use a for loop and F-strings to print the first 5 rows of star data in tabular format.\n",
    "* Pad each column with spaces so it's the same width.\n",
    "* Right justify all numeric columns.\n",
    "* Center all categorical columns.\n",
    "* Remember what the `<`, `^`, and `>` characters do in the format_spec. Here is a link to the documentation: https://docs.python.org/3/library/string.html#format-specification-mini-language"
   ]
  },
  {
   "cell_type": "code",
   "execution_count": 92,
   "metadata": {},
   "outputs": [
    {
     "name": "stdout",
     "output_type": "stream",
     "text": [
      "Number of stars: 240\n"
     ]
    },
    {
     "data": {
      "text/plain": [
       "[{'Temperature': '3068',\n",
       "  'L': '0.0024',\n",
       "  'R': '0.17',\n",
       "  'A_M': '16.12',\n",
       "  'Color': 'Red',\n",
       "  'Spectral_Class': 'M',\n",
       "  'Type': '0'},\n",
       " {'Temperature': '3042',\n",
       "  'L': '0.0005',\n",
       "  'R': '0.1542',\n",
       "  'A_M': '16.6',\n",
       "  'Color': 'Red',\n",
       "  'Spectral_Class': 'M',\n",
       "  'Type': '0'}]"
      ]
     },
     "execution_count": 92,
     "metadata": {},
     "output_type": "execute_result"
    }
   ],
   "source": [
    "# Ex IV.4, run cell to get star classification data\n",
    "import csv\n",
    "with open(\"data/stars.csv\", \"rt\") as sfile:\n",
    "    stars = list(csv.DictReader(sfile))\n",
    "\n",
    "print(\"Number of stars:\", len(stars))\n",
    "stars[:2]"
   ]
  },
  {
   "cell_type": "code",
   "execution_count": 118,
   "metadata": {},
   "outputs": [
    {
     "name": "stdout",
     "output_type": "stream",
     "text": [
      "Temp\t\tL\t\tR\tA\t\tA_M\t\tType\t\tColor\t\tSpecteral_Class\n",
      "3068\t\t0.0024\t\t0.17\t\t16.12\t\t0\t\tRed\t\tM\n",
      "3042\t\t0.0005\t\t0.1542\t\t16.6\t\t0\t\tRed\t\tM\n",
      "2600\t\t0.0003\t\t0.102\t\t18.7\t\t0\t\tRed\t\tM\n",
      "2800\t\t0.0002\t\t0.16\t\t16.65\t\t0\t\tRed\t\tM\n",
      "1939\t\t0.000138\t\t0.103\t\t20.06\t\t0\t\tRed\t\tM\n",
      "2840\t\t0.00065\t\t0.11\t\t16.98\t\t0\t\tRed\t\tM\n",
      "2637\t\t0.00073\t\t0.127\t\t17.22\t\t0\t\tRed\t\tM\n",
      "2600\t\t0.0004\t\t0.096\t\t17.4\t\t0\t\tRed\t\tM\n",
      "2650\t\t0.00069\t\t0.11\t\t17.45\t\t0\t\tRed\t\tM\n",
      "2700\t\t0.00018\t\t0.13\t\t16.05\t\t0\t\tRed\t\tM\n",
      "3600\t\t0.0029\t\t0.51\t\t10.69\t\t1\t\tRed\t\tM\n",
      "3129\t\t0.0122\t\t0.3761\t\t11.79\t\t1\t\tRed\t\tM\n",
      "3134\t\t0.0004\t\t0.196\t\t13.21\t\t1\t\tRed\t\tM\n",
      "3628\t\t0.0055\t\t0.393\t\t10.48\t\t1\t\tRed\t\tM\n",
      "2650\t\t0.0006\t\t0.14\t\t11.782\t\t1\t\tRed\t\tM\n",
      "3340\t\t0.0038\t\t0.24\t\t13.07\t\t1\t\tRed\t\tM\n",
      "2799\t\t0.0018\t\t0.16\t\t14.79\t\t1\t\tRed\t\tM\n",
      "3692\t\t0.00367\t\t0.47\t\t10.8\t\t1\t\tRed\t\tM\n",
      "3192\t\t0.00362\t\t0.1967\t\t13.53\t\t1\t\tRed\t\tM\n",
      "3441\t\t0.039\t\t0.351\t\t11.18\t\t1\t\tRed\t\tM\n",
      "25000\t\t0.056\t\t0.0084\t\t10.58\t\t2\t\tBlue White\t\tB\n",
      "7740\t\t0.00049\t\t0.01234\t\t14.02\t\t2\t\tWhite\t\tA\n",
      "7220\t\t0.00017\t\t0.011\t\t14.23\t\t2\t\tWhite\t\tF\n",
      "8500\t\t0.0005\t\t0.01\t\t14.5\t\t2\t\tWhite\t\tA\n",
      "16500\t\t0.013\t\t0.014\t\t11.89\t\t2\t\tBlue White\t\tB\n",
      "12990\t\t8.5e-05\t\t0.00984\t\t12.23\t\t2\t\tYellowish White\t\tF\n",
      "8570\t\t0.00081\t\t0.0097\t\t14.2\t\t2\t\tBlue white\t\tA\n",
      "7700\t\t0.00011\t\t0.0128\t\t14.47\t\t2\t\tYellowish White\t\tF\n",
      "11790\t\t0.00015\t\t0.011\t\t12.59\t\t2\t\tYellowish White\t\tF\n",
      "7230\t\t8e-05\t\t0.013\t\t14.08\t\t2\t\tPale yellow orange\t\tF\n",
      "39000\t\t204000.0\t\t10.6\t\t-4.7\t\t3\t\tBlue\t\tO\n",
      "30000\t\t28840.0\t\t6.3\t\t-4.2\t\t3\t\tBlue-white\t\tB\n",
      "15276\t\t1136.0\t\t7.2\t\t-1.97\t\t3\t\tBlue-white\t\tB\n",
      "9700\t\t74.0\t\t2.89\t\t0.16\t\t3\t\tWhitish\t\tB\n",
      "5800\t\t0.81\t\t0.9\t\t5.05\t\t3\t\tyellow-white\t\tF\n",
      "8052\t\t8.7\t\t1.8\t\t2.42\t\t3\t\tWhitish\t\tA\n",
      "6757\t\t1.43\t\t1.12\t\t2.41\t\t3\t\tyellow-white\t\tF\n",
      "6380\t\t1.35\t\t0.98\t\t2.93\t\t3\t\tyellow-white\t\tF\n",
      "5936\t\t1.357\t\t1.106\t\t4.46\t\t3\t\tyellow-white\t\tF\n",
      "5587\t\t0.819\t\t0.99\t\t5.03\t\t3\t\tyellow-white\t\tF\n",
      "3826\t\t200000.0\t\t19\t\t-6.93\t\t4\t\tRed\t\tM\n",
      "3365\t\t340000.0\t\t23\t\t-6.2\t\t4\t\tRed\t\tM\n",
      "3270\t\t150000.0\t\t88\t\t-6.02\t\t4\t\tRed\t\tM\n",
      "3200\t\t195000.0\t\t17\t\t-7.22\t\t4\t\tRed\t\tM\n",
      "3008\t\t280000.0\t\t25\t\t-6\t\t4\t\tRed\t\tM\n",
      "3600\t\t320000.0\t\t29\t\t-6.6\t\t4\t\tRed\t\tM\n",
      "3575\t\t123000.0\t\t45\t\t-6.78\t\t4\t\tRed\t\tM\n",
      "3574\t\t200000.0\t\t89\t\t-5.24\t\t4\t\tRed\t\tM\n",
      "3625\t\t184000.0\t\t84\t\t-6.74\t\t4\t\tRed\t\tM\n",
      "33750\t\t220000.0\t\t26\t\t-6.1\t\t4\t\tBlue\t\tB\n",
      "3490\t\t270000.0\t\t1520\t\t-9.4\t\t5\t\tRed\t\tM\n",
      "3750\t\t283000.0\t\t1260\t\t-7.63\t\t5\t\tRed\t\tM\n",
      "3834\t\t272000.0\t\t1183\t\t-9.2\t\t5\t\tRed\t\tM\n",
      "3749\t\t550000.0\t\t1648\t\t-8.05\t\t5\t\tOrange\t\tM\n",
      "3650\t\t310000.0\t\t1324\t\t-7.79\t\t5\t\tRed\t\tM\n",
      "3450\t\t263000.0\t\t1349\t\t-11.75\t\t5\t\tRed\t\tM\n",
      "3660\t\t363000.0\t\t1673\t\t-11.92\t\t5\t\tRed\t\tM\n",
      "3450\t\t174000.0\t\t1284\t\t-11.28\t\t5\t\tRed\t\tM\n",
      "3752\t\t209000.0\t\t955\t\t-11.24\t\t5\t\tRed\t\tM\n",
      "3535\t\t195000.0\t\t1546\t\t-11.36\t\t5\t\tRed\t\tM\n",
      "3341\t\t0.0056\t\t0.057\t\t16.23\t\t0\t\tRed\t\tM\n",
      "3432\t\t0.00067\t\t0.19\t\t16.94\t\t0\t\tRed\t\tM\n",
      "2983\t\t0.00024\t\t0.094\t\t16.09\t\t0\t\tRed\t\tM\n",
      "2835\t\t0.00034\t\t0.0918\t\t16.96\t\t0\t\tRed\t\tM\n",
      "2935\t\t0.00014\t\t0.116\t\t18.89\t\t0\t\tRed\t\tM\n",
      "3295\t\t0.00098\t\t0.132\t\t17.13\t\t0\t\tRed\t\tM\n",
      "2945\t\t0.00032\t\t0.093\t\t18.34\t\t0\t\tRed\t\tM\n",
      "2817\t\t0.00098\t\t0.0911\t\t16.45\t\t0\t\tRed\t\tM\n",
      "2774\t\t0.00036\t\t0.118\t\t17.39\t\t0\t\tRed\t\tM\n",
      "2871\t\t0.00072\t\t0.12\t\t19.43\t\t0\t\tRed\t\tM\n",
      "3345\t\t0.021\t\t0.273\t\t12.3\t\t1\t\tRed\t\tM\n",
      "3607\t\t0.022\t\t0.38\t\t10.12\t\t1\t\tRed\t\tM\n",
      "3304\t\t0.0085\t\t0.18\t\t13.2\t\t1\t\tRed\t\tM\n",
      "3150\t\t0.0088\t\t0.35\t\t11.94\t\t1\t\tRed\t\tM\n",
      "3550\t\t0.004\t\t0.291\t\t10.89\t\t1\t\tRed\t\tM\n",
      "3180\t\t0.001\t\t0.35\t\t11.76\t\t1\t\tRed\t\tM\n",
      "2890\t\t0.0034\t\t0.24\t\t13.46\t\t1\t\tRed\t\tM\n",
      "3342\t\t0.0015\t\t0.307\t\t11.87\t\t1\t\tRed\t\tM\n",
      "2621\t\t0.0006\t\t0.098\t\t12.81\t\t1\t\tRed\t\tM\n",
      "3158\t\t0.00135\t\t0.161\t\t13.98\t\t1\t\tRed\t\tM\n",
      "7100\t\t0.00029\t\t0.012\t\t14.09\t\t2\t\tWhite-Yellow\t\tF\n",
      "10574\t\t0.00014\t\t0.0092\t\t12.02\t\t2\t\tWhite\t\tF\n",
      "8930\t\t0.00056\t\t0.0095\t\t13.78\t\t2\t\twhite\t\tA\n",
      "17200\t\t0.00098\t\t0.015\t\t12.45\t\t2\t\tBlue White\t\tB\n",
      "14100\t\t0.00067\t\t0.0089\t\t12.17\t\t2\t\tBlue White\t\tB\n",
      "9675\t\t0.00045\t\t0.0109\t\t13.98\t\t2\t\tBlue White\t\tA\n",
      "12010\t\t0.00078\t\t0.0092\t\t12.13\t\t2\t\tBlue White\t\tB\n",
      "10980\t\t0.00074\t\t0.0087\t\t11.19\t\t2\t\tBlue White\t\tB\n",
      "13720\t\t0.00018\t\t0.00892\t\t12.97\t\t2\t\twhite\t\tF\n",
      "19860\t\t0.0011\t\t0.0131\t\t11.34\t\t2\t\tBlue\t\tB\n",
      "5300\t\t0.59\t\t0.91\t\t5.49\t\t3\t\tyellow-white\t\tF\n",
      "4526\t\t0.153\t\t0.865\t\t6.506\t\t3\t\tyellowish\t\tK\n",
      "4077\t\t0.085\t\t0.795\t\t6.228\t\t3\t\tyellowish\t\tK\n",
      "4980\t\t0.357\t\t1.13\t\t4.78\t\t3\t\tYellowish\t\tK\n",
      "9030\t\t45.0\t\t2.63\t\t1.45\t\t3\t\tBlue-white\t\tA\n",
      "11250\t\t672.0\t\t6.98\t\t-2.3\t\t3\t\tBlue-white\t\tA\n",
      "5112\t\t0.63\t\t0.876\t\t4.68\t\t3\t\tOrange-Red\t\tK\n",
      "7720\t\t7.92\t\t1.34\t\t2.44\t\t3\t\tyellow-white\t\tF\n",
      "12098\t\t689.0\t\t7.01\t\t0.02\t\t3\t\tBlue-white\t\tA\n",
      "36108\t\t198000.0\t\t10.2\t\t-4.4\t\t3\t\tBlue\t\tO\n",
      "33300\t\t240000.0\t\t12\t\t-6.5\t\t4\t\tBlue\t\tB\n",
      "40000\t\t813000.0\t\t14\t\t-6.23\t\t4\t\tBlue\t\tO\n",
      "23000\t\t127000.0\t\t36\t\t-5.76\t\t4\t\tBlue\t\tO\n",
      "17120\t\t235000.0\t\t83\t\t-6.89\t\t4\t\tBlue\t\tO\n",
      "11096\t\t112000.0\t\t12\t\t-5.91\t\t4\t\tBlue\t\tO\n",
      "14245\t\t231000.0\t\t42\t\t-6.12\t\t4\t\tBlue\t\tO\n",
      "24630\t\t363000.0\t\t63\t\t-5.83\t\t4\t\tBlue\t\tO\n",
      "12893\t\t184000.0\t\t36\t\t-6.34\t\t4\t\tBlue\t\tO\n",
      "24345\t\t142000.0\t\t57\t\t-6.24\t\t4\t\tBlue\t\tO\n",
      "33421\t\t352000.0\t\t67\t\t-5.79\t\t4\t\tBlue\t\tO\n",
      "3459\t\t100000.0\t\t1289\t\t-10.7\t\t5\t\tRed\t\tM\n",
      "3605\t\t126000.0\t\t1124\t\t-10.81\t\t5\t\tRed\t\tM\n",
      "3615\t\t200000.0\t\t1635\t\t-11.33\t\t5\t\tRed\t\tM\n",
      "3399\t\t117000.0\t\t1486\t\t-10.92\t\t5\t\tRed\t\tM\n",
      "3610\t\t132000.0\t\t1522\t\t-10.86\t\t5\t\tRed\t\tM\n",
      "3553\t\t145000.0\t\t1324\t\t-11.03\t\t5\t\tRed\t\tM\n",
      "4015\t\t282000.0\t\t1534\t\t-11.39\t\t5\t\tRed\t\tK\n",
      "3625\t\t74000.0\t\t876\t\t-10.25\t\t5\t\tRed\t\tM\n",
      "6850\t\t229000.0\t\t1467\t\t-10.07\t\t5\t\tRed\t\tG\n",
      "3780\t\t200000.0\t\t1324\t\t-10.7\t\t5\t\tRed\t\tM\n",
      "3323\t\t0.00043\t\t0.0912\t\t17.16\t\t0\t\tRed\t\tM\n",
      "3531\t\t0.00093\t\t0.0976\t\t19.94\t\t0\t\tRed\t\tM\n",
      "3218\t\t0.00054\t\t0.11\t\t20.02\t\t0\t\tRed\t\tM\n",
      "3146\t\t0.00015\t\t0.0932\t\t16.92\t\t0\t\tRed\t\tM\n",
      "3511\t\t0.00064\t\t0.109\t\t17.12\t\t0\t\tRed\t\tM\n",
      "3225\t\t0.00076\t\t0.121\t\t19.63\t\t0\t\tRed\t\tM\n",
      "2935\t\t0.00087\t\t0.0932\t\t16.88\t\t0\t\tRed\t\tM\n",
      "2861\t\t0.00019\t\t0.0899\t\t16.71\t\t0\t\tRed\t\tM\n",
      "2856\t\t0.000896\t\t0.0782\t\t19.56\t\t0\t\tRed\t\tM\n",
      "2731\t\t0.000437\t\t0.0856\t\t18.09\t\t0\t\tRed\t\tM\n",
      "3095\t\t0.00019\t\t0.492\t\t10.87\t\t1\t\tRed\t\tM\n",
      "3607\t\t0.00023\t\t0.38\t\t10.34\t\t1\t\tRed\t\tM\n",
      "3100\t\t0.008\t\t0.31\t\t11.17\t\t1\t\tRed\t\tM\n",
      "2989\t\t0.0087\t\t0.34\t\t13.12\t\t1\t\tRed\t\tM\n",
      "3542\t\t0.0009\t\t0.62\t\t14.23\t\t1\t\tRed\t\tM\n",
      "3243\t\t0.0023\t\t0.73\t\t14.75\t\t1\t\tRed\t\tM\n",
      "3091\t\t0.0081\t\t0.24\t\t11.43\t\t1\t\tRed\t\tM\n",
      "3598\t\t0.0011\t\t0.56\t\t14.26\t\t1\t\tRed\t\tM\n",
      "3324\t\t0.0034\t\t0.34\t\t12.23\t\t1\t\tRed\t\tM\n",
      "3541\t\t0.0013\t\t0.256\t\t14.33\t\t1\t\tRed\t\tM\n",
      "13420\t\t0.00059\t\t0.00981\t\t13.67\t\t2\t\tBlue White\t\tB\n",
      "21020\t\t0.0015\t\t0.0112\t\t11.52\t\t2\t\tBlue\t\tB\n",
      "18290\t\t0.0013\t\t0.00934\t\t12.78\t\t2\t\tBlue\t\tB\n",
      "14520\t\t0.00082\t\t0.00972\t\t11.92\t\t2\t\tBlue White\t\tB\n",
      "11900\t\t0.00067\t\t0.00898\t\t11.38\t\t2\t\tBlue white\t\tB\n",
      "8924\t\t0.00028\t\t0.00879\t\t14.87\t\t2\t\tBlue white\t\tA\n",
      "12912\t\t0.00071\t\t0.00945\t\t12.83\t\t2\t\tBlue white\t\tB\n",
      "14732\t\t0.00011\t\t0.00892\t\t12.89\t\t2\t\twhite\t\tF\n",
      "7723\t\t0.00014\t\t0.00878\t\t14.81\t\t2\t\tWhite\t\tA\n",
      "12984\t\t0.00088\t\t0.00996\t\t11.23\t\t2\t\tBlue White\t\tB\n",
      "29560\t\t188000.0\t\t6.02\t\t-4.01\t\t3\t\tBlue-white\t\tB\n",
      "8945\t\t38.0\t\t2.487\t\t0.12\t\t3\t\tBlue-White\t\tA\n",
      "14060\t\t1092.0\t\t5.745\t\t-2.04\t\t3\t\tBlue-white\t\tA\n",
      "16390\t\t1278.0\t\t5.68\t\t-3.32\t\t3\t\tBlue-white\t\tB\n",
      "25070\t\t14500.0\t\t5.92\t\t-3.98\t\t3\t\tBlue-white\t\tB\n",
      "28700\t\t16790.0\t\t6.4\t\t-4.09\t\t3\t\tBlue-white\t\tB\n",
      "26140\t\t14520.0\t\t5.49\t\t-3.8\t\t3\t\tBlue-white\t\tB\n",
      "20120\t\t4720.0\t\t6.78\t\t-3.4\t\t3\t\tBlue-white\t\tB\n",
      "13023\t\t998.0\t\t6.21\t\t-1.38\t\t3\t\tBlue-white\t\tA\n",
      "37800\t\t202900.0\t\t6.86\t\t-4.56\t\t3\t\tBlue\t\tO\n",
      "25390\t\t223000.0\t\t57\t\t-5.92\t\t4\t\tBlue\t\tO\n",
      "11567\t\t251000.0\t\t36\t\t-6.245\t\t4\t\tBlue\t\tO\n",
      "12675\t\t452000.0\t\t83\t\t-5.62\t\t4\t\tBlue\t\tO\n",
      "5752\t\t245000.0\t\t97\t\t-6.63\t\t4\t\tBlue\t\tO\n",
      "8927\t\t239000.0\t\t35\t\t-7.34\t\t4\t\tBlue\t\tO\n",
      "7282\t\t131000.0\t\t24\t\t-7.22\t\t4\t\tBlue\t\tO\n",
      "19923\t\t152000.0\t\t73\t\t-5.69\t\t4\t\tBlue\t\tO\n",
      "26373\t\t198000.0\t\t39\t\t-5.83\t\t4\t\tBlue\t\tO\n",
      "17383\t\t342900.0\t\t30\t\t-6.09\t\t4\t\tBlue\t\tO\n",
      "9373\t\t424520.0\t\t24\t\t-5.99\t\t4\t\tBlue\t\tO\n",
      "3570\t\t320000.0\t\t1480\t\t-7.58\t\t5\t\tRed\t\tM\n",
      "3500\t\t138000.0\t\t1420\t\t-8.18\t\t5\t\tRed\t\tM\n",
      "4287\t\t630000.0\t\t1315\t\t-9.2\t\t5\t\tOrange\t\tK\n",
      "26000\t\t316000.0\t\t1679\t\t-9.1\t\t5\t\tBlue\t\tB\n",
      "3600\t\t240000.0\t\t1190\t\t-7.89\t\t5\t\tRed\t\tM\n",
      "3614\t\t145000.0\t\t1553\t\t-7.71\t\t5\t\tRed\t\tM\n",
      "18000\t\t200000.0\t\t1045\t\t-8.3\t\t5\t\tBlue\t\tO\n",
      "11000\t\t170000.0\t\t1779\t\t-9.9\t\t5\t\tBlue-white\t\tB\n",
      "12100\t\t120000.0\t\t708.9\t\t-7.84\t\t5\t\tBlue-white\t\tB\n",
      "24490\t\t248490.0\t\t1134.5\t\t-8.24\t\t5\t\tBlue-white\t\tB\n",
      "2831\t\t0.000231\t\t0.0915\t\t16.21\t\t0\t\tRed\t\tM\n",
      "2914\t\t0.000631\t\t0.116\t\t18.39\t\t0\t\tRed\t\tM\n",
      "3419\t\t0.000245\t\t0.126\t\t17.56\t\t0\t\tRed\t\tM\n",
      "3218\t\t0.000452\t\t0.0987\t\t17.34\t\t0\t\tRed\t\tM\n",
      "3453\t\t0.000621\t\t0.0773\t\t17.08\t\t0\t\tRed\t\tM\n",
      "2889\t\t0.000352\t\t0.0973\t\t16.93\t\t0\t\tRed\t\tM\n",
      "2968\t\t0.000461\t\t0.119\t\t17.45\t\t0\t\tRed\t\tM\n",
      "3484\t\t0.000551\t\t0.0998\t\t16.67\t\t0\t\tRed\t\tM\n",
      "2778\t\t0.000849\t\t0.112\t\t19.45\t\t0\t\tRed\t\tM\n",
      "3523\t\t0.000957\t\t0.129\t\t16.35\t\t0\t\tRed\t\tM\n",
      "3462\t\t0.0053\t\t0.148\t\t11.47\t\t1\t\tRed\t\tM\n",
      "3257\t\t0.0024\t\t0.46\t\t10.73\t\t1\t\tRed\t\tM\n",
      "2994\t\t0.0072\t\t0.28\t\t13.45\t\t1\t\tRed\t\tM\n",
      "3212\t\t0.0016\t\t0.378\t\t12.854\t\t1\t\tRed\t\tM\n",
      "3523\t\t0.0054\t\t0.319\t\t12.43\t\t1\t\tRed\t\tM\n",
      "3598\t\t0.0027\t\t0.67\t\t13.667\t\t1\t\tRed\t\tM\n",
      "3142\t\t0.00132\t\t0.258\t\t14.12\t\t1\t\tRed\t\tM\n",
      "3496\t\t0.00125\t\t0.336\t\t14.94\t\t1\t\tRed\t\tM\n",
      "3324\t\t0.0065\t\t0.471\t\t12.78\t\t1\t\tRed\t\tM\n",
      "3463\t\t0.0027\t\t0.675\t\t14.776\t\t1\t\tRed\t\tM\n",
      "16790\t\t0.0014\t\t0.0121\t\t12.87\t\t2\t\tBlue\t\tB\n",
      "15680\t\t0.00122\t\t0.0114\t\t11.92\t\t2\t\tBlue\t\tB\n",
      "14982\t\t0.00118\t\t0.0113\t\t12.23\t\t2\t\tBlue\t\tB\n",
      "13340\t\t0.00109\t\t0.0116\t\t12.9\t\t2\t\tBlue\t\tB\n",
      "18340\t\t0.00134\t\t0.0124\t\t11.22\t\t2\t\tBlue\t\tB\n",
      "19920\t\t0.00156\t\t0.0142\t\t11.34\t\t2\t\tBlue\t\tB\n",
      "24020\t\t0.00159\t\t0.0127\t\t10.55\t\t2\t\tBlue\t\tB\n",
      "23092\t\t0.00132\t\t0.0104\t\t10.18\t\t2\t\tBlue\t\tB\n",
      "17920\t\t0.00111\t\t0.0106\t\t11.66\t\t2\t\tBlue\t\tB\n",
      "19360\t\t0.00125\t\t0.00998\t\t11.62\t\t2\t\tBlue\t\tB\n",
      "22350\t\t12450.0\t\t6.36\t\t-3.67\t\t3\t\tBlue-white\t\tB\n",
      "10012\t\t552.0\t\t5.856\t\t0.013\t\t3\t\tBlue-white\t\tA\n",
      "13089\t\t788.0\t\t5.992\t\t-0.12\t\t3\t\tBlue-white\t\tA\n",
      "22012\t\t6748.0\t\t6.64\t\t-2.55\t\t3\t\tBlue-white\t\tB\n",
      "34190\t\t198200.0\t\t6.39\t\t-4.57\t\t3\t\tBlue\t\tO\n",
      "32460\t\t173800.0\t\t6.237\t\t-4.36\t\t3\t\tBlue\t\tO\n",
      "9320\t\t29.0\t\t1.91\t\t1.236\t\t3\t\tBlue-white\t\tA\n",
      "19400\t\t10920.0\t\t6.03\t\t-3.08\t\t3\t\tBlue-white\t\tB\n",
      "17140\t\t883.0\t\t5.653\t\t-2.64\t\t3\t\tBlue-white\t\tB\n",
      "8250\t\t9.25\t\t1.93\t\t-0.98\t\t3\t\tyellow-white\t\tF\n",
      "23678\t\t244290.0\t\t35\t\t-6.27\t\t4\t\tBlue\t\tO\n",
      "12749\t\t332520.0\t\t76\t\t-7.02\t\t4\t\tBlue\t\tO\n",
      "9383\t\t342940.0\t\t98\t\t-6.98\t\t4\t\tBlue\t\tO\n",
      "23440\t\t537430.0\t\t81\t\t-5.975\t\t4\t\tBlue\t\tO\n",
      "16787\t\t246730.0\t\t62\t\t-6.35\t\t4\t\tBlue\t\tO\n",
      "18734\t\t224780.0\t\t46\t\t-7.45\t\t4\t\tBlue\t\tO\n",
      "9892\t\t593900.0\t\t80\t\t-7.262\t\t4\t\tBlue\t\tO\n",
      "10930\t\t783930.0\t\t25\t\t-6.224\t\t4\t\tBlue\t\tO\n",
      "23095\t\t347820.0\t\t86\t\t-5.905\t\t4\t\tBlue\t\tO\n",
      "21738\t\t748890.0\t\t92\t\t-7.346\t\t4\t\tBlue\t\tO\n",
      "24145\t\t382993.0\t\t1494\t\t-8.84\t\t5\t\tBlue-white\t\tB\n",
      "38234\t\t272830.0\t\t1356\t\t-9.29\t\t5\t\tBlue\t\tO\n",
      "32489\t\t648430.0\t\t1948.5\t\t-10.84\t\t5\t\tBlue\t\tO\n",
      "27739\t\t849420.0\t\t1252\t\t-7.59\t\t5\t\tBlue-white\t\tB\n",
      "21904\t\t748490.0\t\t1130\t\t-7.67\t\t5\t\tBlue-white\t\tB\n",
      "38940\t\t374830.0\t\t1356\t\t-9.93\t\t5\t\tBlue\t\tO\n",
      "30839\t\t834042.0\t\t1194\t\t-10.63\t\t5\t\tBlue\t\tO\n",
      "8829\t\t537493.0\t\t1423\t\t-10.73\t\t5\t\tWhite\t\tA\n",
      "9235\t\t404940.0\t\t1112\t\t-11.23\t\t5\t\tWhite\t\tA\n",
      "37882\t\t294903.0\t\t1783\t\t-7.8\t\t5\t\tBlue\t\tO\n"
     ]
    }
   ],
   "source": [
    "# Ex IV.5 Place your code in this cell\n",
    "print(\"Temp\\t\\tL\\t\\tR\\tA\\t\\tA_M\\t\\tType\\t\\tColor\\t\\tSpecteral_Class\")\n",
    "for i in stars:\n",
    "    print(f\"{i['Temperature']}\\t\\t{float(i['L'])}\\t\\t{i['R']}\\t\\t{i['A_M']}\\t\\t{i['Type']}\\t\\t{i['Color']}\\t\\t{i['Spectral_Class']}\")\n"
   ]
  },
  {
   "cell_type": "markdown",
   "metadata": {},
   "source": [
    "## V. Text Encoding\n",
    "In this next section, we'll take a break from Python (mostly) and discuss how textual information is stored on files and in computer memory. The act of converting text to a binary format that can be stored by a computer is called encoding, and decoding happens when you convert the binary information back into text. You don't have to think about encoding or decoding for most programming tasks. But occasionally, a problem with encoding or decoding will pop up and your program won't work until you figure it out."
   ]
  },
  {
   "cell_type": "markdown",
   "metadata": {},
   "source": [
    "### A. Integer Representations: Binary to Hexadecimal\n",
    "The most common methods for expressing integers when programming are decimal, binary, octal, and hexadecimal.\n",
    "\n",
    "#### Decimal\n",
    "Decimal is simply the base 10 numbering system that we've all been using since kindergarten. 0, 1, 2, 3, 4, 5, 6, 7, 8, 9, 10, 11, ... you get the idea.\n",
    "\n",
    "#### Binary\n",
    "Understanding binary notation is useful because internally, all data in computer memory, and in the processor, and on the hard drive, etc., is represented in a binary format. A single digit in binary, either a 0 or a 1, is physically manifested in RAM with a transistor and a capacitor. When the capacitor is charged up, that means the memory cell is storing a 1. If the capacitor is discharged, that means the memory cell is storing a zero. This is an over-simplification, but it's still a useful mental model.\n",
    "\n",
    "If we were to count from zero to seven in binary, it would look like this: 000, 001, 010, 011, 100, 101, 110, 111. We don't generally write out binary numbers in our code because long binary numbers are difficult for us humans to interpret. Binary numbers are worthy of attention because they help us understand what's happening under the hood.\n",
    "\n",
    "If you must convert a decimal number to binary, Python can do that for you. You can use the built-in `bin()` function, or a format_spec ending in `b`."
   ]
  },
  {
   "cell_type": "code",
   "execution_count": 119,
   "metadata": {},
   "outputs": [
    {
     "name": "stdout",
     "output_type": "stream",
     "text": [
      "Decimal 5 in binary:\t 0b101\n",
      "111\n",
      "9\n"
     ]
    },
    {
     "data": {
      "text/plain": [
       "9"
      ]
     },
     "execution_count": 119,
     "metadata": {},
     "output_type": "execute_result"
    }
   ],
   "source": [
    "# Printing Binary Number with the bin() function\n",
    "print(\"Decimal 5 in binary:\\t\", bin(5))\n",
    "\n",
    "# Using a format specification\n",
    "print(f\"{7:b}\")\n",
    "\n",
    "# Binary int literals start with `0b`\n",
    "print(0b1001)\n",
    "\n",
    "# Convert binary string to decimal integer\n",
    "int('1001', 2)"
   ]
  },
  {
   "cell_type": "markdown",
   "metadata": {},
   "source": [
    "#### Octal\n",
    "Octal refers to a numbering system that uses only the digits 0 through 7 (base 8). Counting to ten in octal looks like this: 0, 1, 2, 3, 4, 5, 6, 7, 10, 11, 12 (if you see an 8 or a 9 digit, you know it's not octal). Octal was commonly used in the 1960s because 6-bit, 12-bit, 24-bit, and 36-bit architectures were common. When we say a computer uses an n-bit architecture, we're saying that the computer's processor is able to store and manipulate n-bit numbers. So if we say a computer has a 12-bit architecture, for example, we're saying that the processor can store, add, divide, multiply, save to memory, and do other operations on 12-bit chunks of data. If the 12-bit chunk of data were to represent an integer, then the processor would be able to handle unsigned integers up to $2^{12} - 1$, or up to 4095. Octal numbers require three bits per digit, so octal representations worked well for these architectures, which all use multiples of three bits.\n",
    "\n",
    "Since the 1960s, architectures that use multiples of eight bits became commonplace. Consequently octal numbers are not frequently used. Nevertheless, Python can work with octal numbers. "
   ]
  },
  {
   "cell_type": "code",
   "execution_count": 120,
   "metadata": {},
   "outputs": [
    {
     "name": "stdout",
     "output_type": "stream",
     "text": [
      "0o11\n",
      "12\n",
      "16\n"
     ]
    },
    {
     "data": {
      "text/plain": [
       "16"
      ]
     },
     "execution_count": 120,
     "metadata": {},
     "output_type": "execute_result"
    }
   ],
   "source": [
    "# Printing an octal number with the oct() function\n",
    "print(oct(9))\n",
    "\n",
    "# Using a format specification\n",
    "print(f\"{10:o}\")\n",
    "\n",
    "# Binary int literals start with `0o` (zero-Oh)\n",
    "print(0o20)\n",
    "\n",
    "# Convert octalstring to decimal integer\n",
    "int('20', 8)"
   ]
  },
  {
   "cell_type": "markdown",
   "metadata": {},
   "source": [
    "#### Hexadecimal\n",
    "We discussed binary numbers because understanding binary representations of data is necessary to understand how computers work. We discussed octal numbers because references to octal numbers appear in documentation for programming languages. We've finally progressed to discussing hexadecimal numbers. Hexadecimal numbers are used frequently in computer programming, so being able to use and interpret hexadecimal numbers is useful.\n",
    "\n",
    "Hexadecimal numbers are base 16, meaning sixteen different symbols are used to represent an integer. Since we only have ten digits in our traditional number system, hexadecimal numbers use the letters A through F in addition to the digits zero through nine. Counting to twenty in hexadecimal looks like this: 1, 2, 3, 4, 5, 6, 7, 8, 9, A, B, C, D, E, F, 10, 11, 12, 13, 14. In hexadecimal, A is decimal 10, B is decimal 11, F is decimal 15, 10 is the decimal 16, and 100 is the $16^2$, or 256.\n",
    "\n",
    "Python supports hexadecimal similarly to how it supports octal and binary."
   ]
  },
  {
   "cell_type": "code",
   "execution_count": 121,
   "metadata": {},
   "outputs": [
    {
     "name": "stdout",
     "output_type": "stream",
     "text": [
      "0xff\n",
      "ff\n",
      "255\n"
     ]
    },
    {
     "data": {
      "text/plain": [
       "255"
      ]
     },
     "execution_count": 121,
     "metadata": {},
     "output_type": "execute_result"
    }
   ],
   "source": [
    "# Printing a hexadecimal number with the hex() function\n",
    "print(hex(255))\n",
    "\n",
    "# Using a format specification\n",
    "print(f\"{255:x}\")\n",
    "\n",
    "# Hexadecimal int literals start with `0x` (zero-Oh)\n",
    "print(0xff)\n",
    "\n",
    "# Convert hex string to decimal integer\n",
    "int('ff', 16)"
   ]
  },
  {
   "cell_type": "markdown",
   "metadata": {},
   "source": [
    "There are good reasons why computer programmers use a wacky number system like hexadecimal. Modern computer systems process data in multiples of eight bits, or one byte. One byte can represent the numbers zero through $2^8 - 1 = 255$. The number 255 in hexadecimal is FF. Two hexadecimal digits can perfectly represent the contents of a byte in memory. Typical computers use a 64-bit architecture, which is eight bytes. The contents of an eight-byte value can be perfectly represented by sixteen hexadecimal digits.\n",
    "\n",
    "It's pretty easy to convert from binary to hexadecimal and back. Review the following example and see if you can guess how to convert between binary and hexadecimal."
   ]
  },
  {
   "cell_type": "code",
   "execution_count": 122,
   "metadata": {},
   "outputs": [
    {
     "name": "stdout",
     "output_type": "stream",
     "text": [
      "Decimal 100 in hexadecimal notation:\t\t\t64\n",
      "\n",
      "Hexadecimal 6 in binary, padded to 4 digits:\t\t0110\n",
      "Hexadecimal 4 in binary, padded to 4 digits:\t\t0100\n",
      "\n",
      "Concatenated binary representations for 0x6 and 0x4:\t01100100\n",
      "Decimal 100 in binary, padded to 8 digits:\t\t01100100\n"
     ]
    }
   ],
   "source": [
    "# Converting between hexadecimal and binary\n",
    "print(f\"Decimal 100 in hexadecimal notation:\\t\\t\\t{100:x}\")\n",
    "print()\n",
    "print(f\"Hexadecimal 6 in binary, padded to 4 digits:\\t\\t{0x6:04b}\")\n",
    "print(f\"Hexadecimal 4 in binary, padded to 4 digits:\\t\\t{0x4:04b}\")\n",
    "print()\n",
    "print(f\"Concatenated binary representations for 0x6 and 0x4:\\t{0x6:04b}{0x4:04b}\")\n",
    "print(f\"Decimal 100 in binary, padded to 8 digits:\\t\\t{100:08b}\")"
   ]
  },
  {
   "cell_type": "markdown",
   "metadata": {},
   "source": [
    "As you may have guessed by reviewing the preceding example, to convert from binary to hexadecimal:\n",
    "1. Split the binary number into chunks of four bits, starting from the least significant bit on the right. Add 0s to the left side of the number as needed to get to a multiple of four bits.\n",
    "2. For each chunk of four bits, determine the numeric value of the 4-bit chunk, ignoring it's position within the overall binary number and ignoring all other 4-bit chunks. For example, the numeric value of 0001 is 1, 1000 is 8, 1110 is E and 1111 is F, regardless of where the 4-bit chunk occurs within the larger binary number.\n",
    "3. Replace the chunk with the single hexadecimal digit that corresponds to the value of the 4-bit chunk.\n",
    "\n",
    "To convert from hexadecimal to binary, just replace each hexadecimal digit with it's four-digit binary equivalent. For example, to convert hex 8A to binary, first consider that 8 in hex is 1000 in binary and A is 1010 in binary. Therefore 8A is 10001010 in binary.\n",
    "\n",
    "In the preceding example, we split the binary number 01100100 into two chunks of 0110 and 0100. The chunk 0100 is 6 in hexadecimal and 0100 is 4. Therefore 64 in hex = 01100100 in binary.\n",
    "\n",
    "To convert hexadecimal to decimal, determine the position p of each digit, with the rightmost digit starting at position 0. Multiply each digit by $16^p$ and sum the results. For example, to convert 64 in hex to decimal, multiply 6 times 16 and add 4: $6 \\times 16^1 + 4*16^0 = 96 + 4 = 100$"
   ]
  },
  {
   "cell_type": "markdown",
   "metadata": {},
   "source": [
    "There are many situations where hexadecimal is useful. For example:\n",
    "* Hexadecimal codes are used to show extended characters and symbols that are not available on a typical keyboard. We'll cover this in more detail in the Unicode section of this notebook.\n",
    "* Colors are frequently specified using hexadecimal notation. <span style=\"color:#b7a57a;background-color:#4b2e83\">For example, the six-digit hex numbers b7a57a and 4b2e83 both represent colors that can be used on the web.</span>\n",
    "* If you were to inspect the raw contents of a binary file, like a JPEG image file, the contents would be displayed in a mixture of hexadecimal and printable ASCII characters. The example below displays the first 6 bytes of an image file."
   ]
  },
  {
   "cell_type": "code",
   "execution_count": 1,
   "metadata": {},
   "outputs": [
    {
     "name": "stdout",
     "output_type": "stream",
     "text": [
      "b'\\xff\\xd8\\xff\\xdb\\x00C'\n"
     ]
    }
   ],
   "source": [
    "with open(\"images/tab_stops1.jpg\", \"rb\") as binary_file:\n",
    "    jpg_bytes = binary_file.read(6)\n",
    "print(jpg_bytes)"
   ]
  },
  {
   "cell_type": "markdown",
   "metadata": {},
   "source": [
    "Most of the bytes are displayed with two hexadecimal characters preceded by '\\x'. The sixth byte just happens to correspond to the ASCII code for the capital letter 'C'. In such cases Python will display the printable ASCII character instead of the hexadecimal number. This can be useful when a binary file contains segments of text data. Use the `.hex()` method to see all content in hexadecimal."
   ]
  },
  {
   "cell_type": "code",
   "execution_count": 2,
   "metadata": {},
   "outputs": [
    {
     "data": {
      "text/plain": [
       "'ffd8ffdb0043'"
      ]
     },
     "execution_count": 2,
     "metadata": {},
     "output_type": "execute_result"
    }
   ],
   "source": [
    "jpg_bytes.hex()"
   ]
  },
  {
   "cell_type": "markdown",
   "metadata": {},
   "source": [
    "By the way, JPEG files always start with the bytes FF and D8."
   ]
  },
  {
   "cell_type": "markdown",
   "metadata": {},
   "source": [
    "### B. ASCII\n",
    "\n",
    "#### History and Overview\n",
    "Some form of text encoding has been around since the middle of the 19th century, due to Samuel Morse's invention of the telegraph. One of the first applications of electrical engineering was to build machines that could automate transmission of messages by Morse code, and these machines needed to convert text to and from binary formats. These machines evolved into teletypes (also called teleprinters), which are machines that can send textual information via a phone line or other electrical connections. An early teletype from 1855 is pictured below.\n",
    "\n",
    "![Hughes Teleprinter from 1855](images/1024px-Printing_Telegraph.jpg)\n",
    "\n",
    "Early computer scientists chose to convert encoding systems used for teletypes for use in early computer systems. ASCII, or *American Standard Code for Information Interchange* is an encoding system that was developed in the 1960's, gained widespread use, and was incorporated into many subsequent encoding schemes. ASCII encodes text into 7-bit binary integers and is capable of encoding $2^7$ or 128 different characters.\n",
    "\n",
    "Here is an ASCII chart:\n",
    "```\n",
    "Dec: Encoded character as a decimal (base 10) number\n",
    "Char: The encoded character.\n",
    "\n",
    "Dec  Char                           Dec  Char     Dec  Char     Dec  Char\n",
    "---------                           ---------     ---------     ----------\n",
    "  0  NUL (null)                      32  SPACE     64  @         96  `\n",
    "  1  SOH (start of heading)          33  !         65  A         97  a\n",
    "  2  STX (start of text)             34  \"         66  B         98  b\n",
    "  3  ETX (end of text)               35  #         67  C         99  c\n",
    "  4  EOT (end of transmission)       36  $         68  D        100  d\n",
    "  5  ENQ (enquiry)                   37  %         69  E        101  e\n",
    "  6  ACK (acknowledge)               38  &         70  F        102  f\n",
    "  7  BEL (bell)                      39  '         71  G        103  g\n",
    "  8  BS  (backspace)                 40  (         72  H        104  h\n",
    "  9  TAB (horizontal tab)            41  )         73  I        105  i\n",
    " 10  LF  (NL line feed, new line)    42  *         74  J        106  j\n",
    " 11  VT  (vertical tab)              43  +         75  K        107  k\n",
    " 12  FF  (NP form feed, new page)    44  ,         76  L        108  l\n",
    " 13  CR  (carriage return)           45  -         77  M        109  m\n",
    " 14  SO  (shift out)                 46  .         78  N        110  n\n",
    " 15  SI  (shift in)                  47  /         79  O        111  o\n",
    " 16  DLE (data link escape)          48  0         80  P        112  p\n",
    " 17  DC1 (device control 1)          49  1         81  Q        113  q\n",
    " 18  DC2 (device control 2)          50  2         82  R        114  r\n",
    " 19  DC3 (device control 3)          51  3         83  S        115  s\n",
    " 20  DC4 (device control 4)          52  4         84  T        116  t\n",
    " 21  NAK (negative acknowledge)      53  5         85  U        117  u\n",
    " 22  SYN (synchronous idle)          54  6         86  V        118  v\n",
    " 23  ETB (end of trans. block)       55  7         87  W        119  w\n",
    " 24  CAN (cancel)                    56  8         88  X        120  x\n",
    " 25  EM  (end of medium)             57  9         89  Y        121  y\n",
    " 26  SUB (substitute)                58  :         90  Z        122  z\n",
    " 27  ESC (escape)                    59  ;         91  [        123  {\n",
    " 28  FS  (file separator)            60  <         92  \\        124  |\n",
    " 29  GS  (group separator)           61  =         93  ]        125  }\n",
    " 30  RS  (record separator)          62  >         94  ^        126  ~\n",
    " 31  US  (unit separator)            63  ?         95  _        127  DEL\n",
    "```\n",
    "\n",
    "ASCII was originally designed not for computers but for teletypes, which is why the first 31 characters are control codes, most of which are no longer in common use, or are no longer used for their original purpose. Some of the escape sequences we used in section III correspond to these control codes, including \"\\t\" for the horizontal tab (9) and \"\\n\" for a new line (10). Upper case letters are encoded as the numbers 65 - 90, lowercase as 97 - 122, digits as 48 - 57, with numerous punctuation characters filling in the other spots. A numerical value that is used to represent a character are often called a *code point*.\n",
    "\n",
    "Python provides two built-in functions for extracting the ASCII code that corresponds to a specific character and vise versa: `char()` and `ord()`."
   ]
  },
  {
   "cell_type": "code",
   "execution_count": 3,
   "metadata": {},
   "outputs": [
    {
     "name": "stdout",
     "output_type": "stream",
     "text": [
      "IRS!"
     ]
    }
   ],
   "source": [
    "# Using chr() to convert from ASCII codes to characters\n",
    "for num in [73, 82, 83, 33]:\n",
    "    print(chr(num), sep=\"\", end=\"\")"
   ]
  },
  {
   "cell_type": "code",
   "execution_count": 4,
   "metadata": {},
   "outputs": [
    {
     "name": "stdout",
     "output_type": "stream",
     "text": [
      "! 33\n",
      "\" 34\n",
      "# 35\n",
      "\n",
      " 10\n",
      "1 49\n",
      "2 50\n",
      "3 51\n",
      "\t 9\n",
      "A 65\n",
      "B 66\n",
      "C 67\n",
      "  32\n",
      "a 97\n",
      "b 98\n",
      "c 99\n",
      "{ 123\n",
      "} 125\n"
     ]
    }
   ],
   "source": [
    "# Use char to convert from characters to ASCII codes\n",
    "for char in \"!\\\"#\\n123\\tABC abc{}\":\n",
    "    print(char, ord(char))"
   ]
  },
  {
   "cell_type": "markdown",
   "metadata": {},
   "source": [
    "From the preceding printout, can you see which numbers correspond to the newline, tab, and space characters?"
   ]
  },
  {
   "cell_type": "markdown",
   "metadata": {},
   "source": [
    "#### Why Only 7 Bits?\n",
    "If you were reading closely, you might have noticed that ASCII encodes characters into 7-bit integers. But modern-day computers manage and address memory using bytes, which are eight bits. So why didn't the creators of ASCII just use eight bits for their encoding scheme? There are a couple likely reasons:\n",
    "* Back in the 1960s, communications bandwidth was a minuscule fraction of what it is now. Encoding characters in 8-bit integers would have required more time to send a message between two locations.\n",
    "* It was not obvious in the 1960s that computer systems would all converge on the 8-bit byte as the standard memory unit.\n",
    "\n",
    "Here are a few ASCII codes in displayed in binary. Count the number of digits -- you'll see that there are only seven."
   ]
  },
  {
   "cell_type": "code",
   "execution_count": 5,
   "metadata": {},
   "outputs": [
    {
     "name": "stdout",
     "output_type": "stream",
     "text": [
      "A:\t1000001\n",
      "B:\t1000010\n",
      "C:\t1000011\n"
     ]
    }
   ],
   "source": [
    "for char in \"ABC\":\n",
    "    print(f\"{char}:\\t{ord(char):b}\")"
   ]
  },
  {
   "cell_type": "markdown",
   "metadata": {},
   "source": [
    "### C. 8-Bit Encodings\n",
    "By the 1980s, even though ASCII requires only 7-bits to encode a character, most computers used a full byte to store each character. Computer and software companies could have just set the first, most significant bit to 0, but instead they added another 128 characters and created an 8-bit encoding scheme. The first 128 characters were identical to ASCII, with a zero in the most significant bit, and the new characters all had a one in the most significant bit. The most common 8-bit encoding scheme is CP1252. Microsoft created the CP1252 encoding scheme for the first version of Microsoft Windows, which was released in 1985. CP1252 added additional characters for other Western European languages, like æ and ü. CP1252 can be used for Danish, Finnish, French, Norwegian, Portuguese, and many other languages. You might also come across an encoding called ISO 8859-1, which is almost identical to CP1252.\n",
    "\n",
    "If you are using a windows computer, it's likely that CP1252 is the default text encoding. Run the following code cell to see your system's preferred encoding."
   ]
  },
  {
   "cell_type": "code",
   "execution_count": 6,
   "metadata": {},
   "outputs": [
    {
     "name": "stdout",
     "output_type": "stream",
     "text": [
      "Default Text Encoding: cp1252\n"
     ]
    }
   ],
   "source": [
    "# Get the default encoding for your system\n",
    "import locale\n",
    "print(\"Default Text Encoding:\", locale.getpreferredencoding())"
   ]
  },
  {
   "cell_type": "markdown",
   "metadata": {},
   "source": [
    "If you are running this notebook on a Linux or iOS operating system, then the default encoding should be UTF-8, which we will discuss momentarily."
   ]
  },
  {
   "cell_type": "markdown",
   "metadata": {},
   "source": [
    "### D. Unicode\n",
    "#### The Unicode Standard\n",
    "There are a whole lot of people in the world that speak languages that cannot be represented with ASCII, CP1252, or ISO 8859-1. Wouldn't it be great if there was one text encoding scheme that could handle all of the world's languages? We're in luck! The Unicode standard, which was released in the early 1990s, allows up to 1,114,111 different characters and symbols to be encoded. That's enough to cover all of the European languages including Greek and Russian, Chinese, Japanese, Korean, Devanagari, and much more. Currently, only 143,696 of the possible characters and symbols have been defined. Each character has been mapped to a different code point (i.e., integer). Conveniently the characters corresponding to the code points 0 through 127 are the same for ASCII and Unicode, so ASCII text can be read as Unicode.\n",
    "\n",
    "Python 3 (but not Python 2) is fully compatible with Unicode. Use the `\"\\uxxxx\"` escape sequence in a literal string, where `xxxx` is the Unicode code point in hexadecimal notation that corresponds to the desired character. For code points with more than four hexadecimal digits, use the `\\Uxxxxxxxx` escape sequence. All four or all eight digits must be specified in the escape sequence, so add zeros to the front of the number as needed. All Unicode characters have string names, so you can also print the character with the escape sequence `\\N{character name}`. Here are some examples:"
   ]
  },
  {
   "cell_type": "code",
   "execution_count": 7,
   "metadata": {},
   "outputs": [
    {
     "name": "stdout",
     "output_type": "stream",
     "text": [
      "Hello!: こんにちは\n",
      "Helpful for card games: ♦ ♣ ♥ ♠\n",
      "Chess anyone? ♔ ♟\n",
      "Unicode has emojis? Are you kidding me? 😏 😀 👍\n",
      "Math Symbols: ∫ ∂x\\∂y, 𝚺\n",
      "STEM Stuff: 🚀 🔬 🤖 \n"
     ]
    }
   ],
   "source": [
    "# Unicode examples\n",
    "print(\"Hello!:\", \"\\u3053\\u3093\\u306B\\u3061\\u306f\")\n",
    "print(\"Helpful for card games:\", \"\\u2666 \\u2663 \\u2665 \\u2660\")\n",
    "print(\"Chess anyone?\", \"\\u2654 \\u265F\")\n",
    "print(\"Unicode has emojis? Are you kidding me?\", \"\\N{smirking face} \\N{grinning face} \\U0001F44D\")\n",
    "print(\"Math Symbols: \\N{integral} \\N{partial differential}x\\\\\\N{partial differential}y, \\U0001D6BA\")\n",
    "print(\"STEM Stuff: \\N{rocket} \\N{microscope} \\N{robot face} \")"
   ]
  },
  {
   "cell_type": "markdown",
   "metadata": {},
   "source": [
    "There are several websites where you can look up the code for any Unicode character. http://unicode-table.com is one such site. Or you can download PDF Unicode charts from http://https://unicode.org/charts/."
   ]
  },
  {
   "cell_type": "markdown",
   "metadata": {},
   "source": [
    "#### Unicode Encodings: UTF-8, UTF-16, and UTF-32\n",
    "Technically Unicode is not an encoding, it's an abstract encoding standard. It maps characters to code points but it does not specify how the integers should be represented as bytes. UTF-8, UTF-16, and UTF-32 are encoding standards that specify a binary encoding for each Unicode code point. UTF-8 is by far the most frequently used and is a good encoding standard to use by default. It's a variable-length standard that generally uses one, two, three, or four bytes to represent a character (but uses more in some situations). UTF-16 is similar to UTF-8, but it uses between two and four bytes to encode a character. UTF-32 generally uses four bytes for each character.\n",
    "\n",
    "So if UTF-8 can use different numbers of bytes to represent a single character, how does Python or any other software know where one character stops and the next character begins within a stream of bytes? It's actually quite simple. The first few bits of the first byte specify how many bytes are used. The following table shows the number of bytes used for specific ranges of code points. The table also shows the bit-by-bit structure of each byte. Bits represented with a 1 or a 0 are always a 1 or a 0 respectively. Bits represented with an x can be either a 1 or a 0.\n",
    "\n",
    "| First code point | Last code point |   Byte 1 |   Byte 2 |   Byte 3 |   Byte 4 |\n",
    "|------------------|-----------------|----------|----------|----------|----------|\n",
    "|           U+0000 |          U+007F | 0xxxxxxx |    n/a   |    n/a   |   n/a    |\n",
    "|           U+0080 |          U+07FF | 110xxxxx | 10xxxxxx |    n/a   |   n/a    |\n",
    "|           U+0800 |          U+FFFF | 1110xxxx | 10xxxxxx | 10xxxxxx |   n/a    |\n",
    "|         U+100000 |        U+10FFFF | 11110xxx | 10xxxxxx | 10xxxxxx | 10xxxxxx |\n",
    "\n",
    "* A byte with a 0 for the most significant bit always specifies a single-byte character, with the code point contained in the following seven bits.\n",
    "* A byte that starts with 10 is never the first byte of a character -- it's always a continuation byte.\n",
    "* A byte that starts with 110 is always the first byte of a two-byte character, which leaves 11 bits to encode the code point (five in the first byte, and six in the second).\n",
    "* A byte that starts with 1110 is always the first byte of a three-byte character, which leaves 16 bits for the code point.\n",
    "* A byte that starts with 11110 is always the first byte of a four-byte character, which leaves 21 bits for the code point.\n",
    "\n",
    "A string object's `.encode()` method can be used to convert a string to a sequence of bytes. Different encodings for the letter 'A' are displayed below."
   ]
  },
  {
   "cell_type": "code",
   "execution_count": 8,
   "metadata": {},
   "outputs": [
    {
     "name": "stdout",
     "output_type": "stream",
     "text": [
      "A in ASCII:  b'A'\n",
      "A in UTF-8:  b'A'\n",
      "A in CP1252: b'A'\n",
      "A in UTF-16: b'A\\x00'\n",
      "A in UTF-32: b'A\\x00\\x00\\x00'\n"
     ]
    }
   ],
   "source": [
    "# Single Byte Encodings\n",
    "print(\"A in ASCII: \", \"A\".encode(\"ASCII\"))\n",
    "print(\"A in UTF-8: \", \"A\".encode(\"UTF8\"))\n",
    "print(\"A in CP1252:\", \"A\".encode(\"CP1252\"))\n",
    "\n",
    "# Multi Byte Encodings\n",
    "print(\"A in UTF-16:\", \"A\".encode(\"UTF-16-LE\"))\n",
    "print(\"A in UTF-32:\", \"A\".encode(\"UTF-32-LE\"))"
   ]
  },
  {
   "cell_type": "markdown",
   "metadata": {},
   "source": [
    "### E. Exercises"
   ]
  },
  {
   "cell_type": "markdown",
   "metadata": {},
   "source": [
    "** Ex V.1.** Convert the numbers as specified. Do the conversions manually - don't use Python."
   ]
  },
  {
   "cell_type": "code",
   "execution_count": null,
   "metadata": {},
   "outputs": [],
   "source": [
    "# Ex V.1\n",
    "# Convert the following hexadecimal digits to four-digit binary numbers, i.e., 1 would be converted to 0001. \n",
    "  # 3: 0011\n",
    "  # 4: 0100\n",
    "  # 9: 1001\n",
    "  # B: 1011\n",
    "  # E: 1110\n",
    "  # F: 1111\n",
    "\n",
    "# Convert the following decimal numbers to hexadecimal:\n",
    "  # 12: C\n",
    "  # 15: F\n",
    "  # 16: 10\n",
    "  # 32: 20\n",
    "  # 99: 63\n",
    "  # 186: BA\n",
    "  # 254: FE\n",
    "    \n",
    "# Convert the following hexadecimal numbers to decimal\n",
    "  # 80: 128\n",
    "  # AA: 170\n",
    "  # DF: 224\n",
    "  # BAD: 2989  gh "
   ]
  },
  {
   "cell_type": "markdown",
   "metadata": {},
   "source": [
    "**Ex V.2.** \n",
    "1. Use a list comprehension, the built-in `chr()` function, and the `.join()` method to convert the list of integers into a readable string.\n",
    "* Hint: You can call `.join()` on an empty string, i.e., `\"\"`.\n",
    "2. Compare the first few characters of the output string to the ASCII chart above. Do the integers in the list match up with the ASCII chart?\n",
    "3. There is one non-ASCII character in the text. Can you find it? What is it?\n",
    "4. Convert the decimal code point from part 3 to Hexadecimal. Look up the code point online. What is the official Unicode name of the non-ASCII character.\n",
    "    Hint: It's easy to look up Unicode code points online. But remember, the code points below are all decimal. If you type a decimal code point into a search tool that expects hexadecimal numbers, you might get the wrong answer."
   ]
  },
  {
   "cell_type": "code",
   "execution_count": 37,
   "metadata": {},
   "outputs": [
    {
     "data": {
      "text/plain": [
       "'\"Any fool can write code that a computer can understand. Good programmers write code that humans can understand.\" – Martin Fowler'"
      ]
     },
     "execution_count": 37,
     "metadata": {},
     "output_type": "execute_result"
    }
   ],
   "source": [
    "# Ex V.2\n",
    "int_list = [34, 65, 110, 121, 32, 102, 111, 111, 108, 32, 99, 97, 110, 32, 119, 114, 105, 116, 101, 32, 99, 111, 100,\n",
    "            101, 32, 116, 104, 97, 116, 32, 97, 32, 99, 111, 109, 112, 117, 116, 101, 114, 32, 99, 97, 110, 32, 117,\n",
    "            110, 100, 101, 114, 115, 116, 97, 110, 100, 46, 32, 71, 111, 111, 100, 32, 112, 114, 111, 103, 114, 97,\n",
    "            109, 109, 101, 114, 115, 32, 119, 114, 105, 116, 101, 32, 99, 111, 100, 101, 32, 116, 104, 97, 116, 32,\n",
    "            104, 117, 109, 97, 110, 115, 32, 99, 97, 110, 32, 117, 110, 100, 101, 114, 115, 116, 97, 110, 100, 46, 34,\n",
    "            32, 8211, 32, 77, 97, 114, 116, 105, 110, 32, 70, 111, 119, 108, 101, 114]\n",
    "\"\".join([str(chr(num)) for num in int_list])"
   ]
  },
  {
   "cell_type": "markdown",
   "metadata": {},
   "source": [
    "**Ex V.3.** Use an online Unicode code point lookup tool to display the Unicode characters named below. Use the escape sequences for code points, either `\"\\Uxxxxxxx\"` or `\"\\uxxxx\"`."
   ]
  },
  {
   "cell_type": "code",
   "execution_count": 59,
   "metadata": {
    "scrolled": true
   },
   "outputs": [
    {
     "name": "stdout",
     "output_type": "stream",
     "text": [
      "🧬🔧🧻🔫\n",
      "ΣЯअ\n"
     ]
    }
   ],
   "source": [
    "# Ex V.3\n",
    "  # A. Display symbols for DNA, a wrench, a roll of toilet paper, and a water pistol\n",
    "print(\"\\U0001F9EC\\U0001F527\\U0001F9FB\\U0001F52B\")\n",
    "\n",
    "  # B. Display the following uppercase letters: Greek letter Sigma, the Russion letter Ya (the backwards R), and A in Devanagari script.\n",
    "print(\"\\u03A3\\u042F\\u0905\")\n"
   ]
  },
  {
   "cell_type": "markdown",
   "metadata": {},
   "source": [
    "** Ex V.4.** Display the UTF-8 byte sequence in binary and hexadecimal notation for the symbol named *MUSICAL SYMBOL QUARTER NOTE*. Refer to the UTF-8 encoding table above."
   ]
  },
  {
   "cell_type": "code",
   "execution_count": 64,
   "metadata": {},
   "outputs": [
    {
     "ename": "LookupError",
     "evalue": "unknown encoding: binary",
     "output_type": "error",
     "traceback": [
      "\u001b[1;31m---------------------------------------------------------------------------\u001b[0m",
      "\u001b[1;31mLookupError\u001b[0m                               Traceback (most recent call last)",
      "\u001b[1;32m~\\AppData\\Local\\Temp/ipykernel_10996/1778601696.py\u001b[0m in \u001b[0;36m<module>\u001b[1;34m\u001b[0m\n\u001b[0;32m      1\u001b[0m \u001b[1;31m# Ex V.4\u001b[0m\u001b[1;33m\u001b[0m\u001b[1;33m\u001b[0m\u001b[0m\n\u001b[1;32m----> 2\u001b[1;33m \u001b[1;34m\"𝅘𝅥\"\u001b[0m\u001b[1;33m.\u001b[0m\u001b[0mencode\u001b[0m\u001b[1;33m(\u001b[0m\u001b[1;34m\"binary\"\u001b[0m\u001b[1;33m)\u001b[0m\u001b[1;33m\u001b[0m\u001b[1;33m\u001b[0m\u001b[0m\n\u001b[0m",
      "\u001b[1;31mLookupError\u001b[0m: unknown encoding: binary"
     ]
    }
   ],
   "source": [
    "# Ex V.4\n",
    "\"𝅘𝅥\".encode(\"binary\")"
   ]
  },
  {
   "cell_type": "markdown",
   "metadata": {},
   "source": [
    "## VI. String Methods\n",
    "Python string objects provide several methods that are useful for manipulating text. The official documentation for Python's string methods is here: https://docs.python.org/3/library/stdtypes.html#text-sequence-type-str\n",
    " \n",
    "This section provides examples of many of Python's string methods, but not all. Check the documentation to see all available string methods.\n",
    "\n",
    "### A. String Slicing\n",
    "OK, string slicing doesn't use methods, but we'll review it in this section anyway. Unlike Python, it's typical in other programming languages, such as R, Java, Javascript, Swift, and C#, to use functions or methods to extract substrings. As we discussed way back in session 1, one can extract sub-strings using integer indexes, similar to how elements are extracted from lists. In Python, a set of start, stop and step indices that are joined with a colon (e.g., `27:20:-1`) is called a slice."
   ]
  },
  {
   "cell_type": "code",
   "execution_count": 60,
   "metadata": {},
   "outputs": [
    {
     "name": "stdout",
     "output_type": "stream",
     "text": [
      "First character:\t T\n",
      "Last character:\t\t .\n",
      "First 14 characters:\t The good thing\n",
      "Last 14 characters:\t believe in it.\n",
      "Word from the middle:\t Science\n",
      "Backwords word:\t\t ecneicS\n",
      "Every third character: T otnauSeesh 'tehh  tobient\n",
      "\n",
      "Quotation by Neil deGrasse Tyson\n"
     ]
    }
   ],
   "source": [
    "phrase = \"The good thing about Science is that it's true whether or not you believe in it.\"\n",
    "\n",
    "print(\"First character:\\t\", phrase[0])\n",
    "print(\"Last character:\\t\\t\", phrase[-1])\n",
    "print(\"First 14 characters:\\t\", phrase[:14])\n",
    "print(\"Last 14 characters:\\t\", phrase[-14:])\n",
    "print(\"Word from the middle:\\t\", phrase[21:28])\n",
    "print(\"Backwords word:\\t\\t\", phrase[27:20:-1])\n",
    "print(\"Every third character:\", phrase[::3])\n",
    "print()\n",
    "print(\"Quotation by Neil deGrasse Tyson\")"
   ]
  },
  {
   "cell_type": "markdown",
   "metadata": {},
   "source": [
    "### B. Case Methods\n",
    "There are several methods for converting between upper and lower case. The `.casefold()` method is similar to `.lower()` and is used to compare strings in such a way that two strings will be considered equal if they differ only by case. Some languages other than English have case distinctions that are not handled correctly by the `.lower(0` method."
   ]
  },
  {
   "cell_type": "code",
   "execution_count": 65,
   "metadata": {},
   "outputs": [
    {
     "name": "stdout",
     "output_type": "stream",
     "text": [
      "Original phrase:\t\t The good thing about Science is that it's true whether or not you believe in it.\n",
      "Swapped case:\t\t\t tHE GOOD THING ABOUT sCIENCE IS THAT IT'S TRUE WHETHER OR NOT YOU BELIEVE IN IT.\n",
      "Upper case:\t\t\t THE GOOD THING ABOUT SCIENCE IS THAT IT'S TRUE WHETHER OR NOT YOU BELIEVE IN IT.\n",
      "Lower case:\t\t\t the good thing about science is that it's true whether or not you believe in it.\n",
      "Casefold:\t\t\t the good thing about science is that it's true whether or not you believe in it.\n",
      "Title case:\t\t\t The Good Thing About Science Is That It'S True Whether Or Not You Believe In It.\n",
      "Capitalize first letter:\t Capitalized phrase.\n"
     ]
    }
   ],
   "source": [
    "print(\"Original phrase:\\t\\t\", phrase)\n",
    "print(\"Swapped case:\\t\\t\\t\", phrase.swapcase())\n",
    "print(\"Upper case:\\t\\t\\t\", phrase.upper())\n",
    "print(\"Lower case:\\t\\t\\t\", phrase.lower())\n",
    "print(\"Casefold:\\t\\t\\t\", phrase.casefold())\n",
    "print(\"Title case:\\t\\t\\t\", phrase.title())\n",
    "print(\"Capitalize first letter:\\t\", \"capitalized phrase.\".capitalize())"
   ]
  },
  {
   "cell_type": "markdown",
   "metadata": {},
   "source": [
    "### C. Alignment Methods\n",
    "The string methods `.ljust()`, `.center()`, and `.rjust()` can be used to pad strings with spaces on the left or right side, or both. The first parameter for these methods is the desired length of the padded string. We'll use these methods to format some data into a table with left justified, centered, and right justified columns."
   ]
  },
  {
   "cell_type": "code",
   "execution_count": 67,
   "metadata": {},
   "outputs": [],
   "source": [
    "colors = [(\"lavender\", 0xE6E6FA, (230, 230, 250)),  (\"thistle\", 0xD8BFD8, (216, 191, 216)), (\"plum\", 0xDDA0DD, (221, 160, 22)),\n",
    "          (\"violet\", 0xEE82EE, (238, 130, 238)), (\"orchid\", 0xDA70D6, (218, 112, 214)), (\"fuchsia\", 0xFF00FF, (255, 0, 255)),\n",
    "          (\"magenta\", 0xFF00FF, (255, 0, 255)), (\"mediumorchid\", 0xBA55D3, (186, 85, 211)), (\"mediumpurple\", 0x9370DB, (147, 112, 219)),\n",
    "          (\"blueviolet\", 0x8A2BE2, (138, 43, 226)), (\"darkviolet\", 0x9400D3, (148, 0, 211)), (\"darkorchid\", 0x9932CC, (153, 50, 204)),\n",
    "          (\"darkmagenta\", 0x8B008B, (139, 0, 139)), (\"purple\", 0x800080, (128, 0, 128)), (\"indigo\", 0x4B0082, (75, 0, 130))]"
   ]
  },
  {
   "cell_type": "code",
   "execution_count": 102,
   "metadata": {},
   "outputs": [
    {
     "name": "stdout",
     "output_type": "stream",
     "text": [
      "HTML / CSS Name |      RGB Values      | Hex Code    \n",
      "----------------|----------------------|-------------\n",
      "       lavender |   (230, 230, 250)    | e6e6fa      \n",
      "        thistle |   (216, 191, 216)    | d8bfd8      \n",
      "           plum |    (221, 160, 22)    | dda0dd      \n",
      "         violet |   (238, 130, 238)    | ee82ee      \n",
      "         orchid |   (218, 112, 214)    | da70d6      \n",
      "        fuchsia |    (255, 0, 255)     | ff00ff      \n",
      "        magenta |    (255, 0, 255)     | ff00ff      \n",
      "   mediumorchid |    (186, 85, 211)    | ba55d3      \n",
      "   mediumpurple |   (147, 112, 219)    | 9370db      \n",
      "     blueviolet |    (138, 43, 226)    | 8a2be2      \n",
      "     darkviolet |    (148, 0, 211)     | 9400d3      \n",
      "     darkorchid |    (153, 50, 204)    | 9932cc      \n",
      "    darkmagenta |    (139, 0, 139)     | 8b008b      \n",
      "         purple |    (128, 0, 128)     | 800080      \n",
      "         indigo |     (75, 0, 130)     | 4b0082      \n"
     ]
    }
   ],
   "source": [
    "# Use .ljust(), .center(), and .rjust() string methods to display a table\n",
    "\n",
    "# Print Column Headers\n",
    "print(\"HTML / CSS Name\".rjust(15),\n",
    "      \"RGB Values\".center(20),\n",
    "      \"Hex Code\".ljust(12),\n",
    "      sep = \" | \")\n",
    "print(\"-\"*15, \"-\"*20, \"-\"*12, sep = \"-|-\")\n",
    "\n",
    "# Print Each Row\n",
    "for color in colors:\n",
    "    print(color[0].rjust(15),\n",
    "          str(color[2]).center(20),\n",
    "          f\"{color[1]:x}\".ljust(12),\n",
    "          sep = \" | \")"
   ]
  },
  {
   "cell_type": "markdown",
   "metadata": {},
   "source": [
    "### D. Finding and Replacing Sub-strings\n",
    "The string methods `.find()`, `.rfind()`, `.startswith()`, `.endswith()`, and `.count()` can be used to check for occurrences of a substring within a larger string."
   ]
  },
  {
   "cell_type": "code",
   "execution_count": 75,
   "metadata": {},
   "outputs": [
    {
     "name": "stdout",
     "output_type": "stream",
     "text": [
      "Position of 'robot': 6\n",
      "First position of 'it': 34\n",
      "Last position of 'it': 238\n",
      "\n",
      "Does string start with \\n?: True\n",
      "Does string end with 'Sand.'?: False\n",
      "\n",
      "Number of occurences of 'in': 6\n",
      "Number of occurences of 'Kraken': 0\n"
     ]
    }
   ],
   "source": [
    "verse3 = \"\"\"\n",
    "That robot seemed relentless \n",
    "as it tied our socks in knots, \n",
    "then clunked into the kitchen \n",
    "and dismantled pans and pots, \n",
    "the thing was not behaving \n",
    "in the fashion we had planned. \n",
    "it clanked into the bathroom \n",
    "and it filled the tub with sand.\"\"\"\n",
    "\n",
    "# Return the position of the first occurence of a substring\n",
    "#   within a larger string\n",
    "print(\"Position of 'robot':\", verse3.find(\"robot\"))\n",
    "print(\"First position of 'it':\", verse3.find(\"it\"))\n",
    "print(\"Last position of 'it':\", verse3.rfind(\"it\"))\n",
    "print()\n",
    "\n",
    "# Check start and end of string\n",
    "print(\"Does string start with \\\\n?:\", verse3.startswith(\"\\n\"))\n",
    "print(\"Does string end with 'Sand.'?:\", verse3.endswith(\"Sand.\"))\n",
    "print()\n",
    "\n",
    "# Count occurences of a substring\n",
    "print(\"Number of occurences of 'in':\", verse3.count(\"in\"))\n",
    "print(\"Number of occurences of 'Kraken':\", verse3.count(\"Kraken\"))"
   ]
  },
  {
   "cell_type": "markdown",
   "metadata": {},
   "source": [
    "The `.replace()` method replaces all occurrences of a substring with whatever string is specified."
   ]
  },
  {
   "cell_type": "code",
   "execution_count": 76,
   "metadata": {},
   "outputs": [
    {
     "name": "stdout",
     "output_type": "stream",
     "text": [
      "\n",
      "That robot seemed relentless \n",
      "as Ultron tied our socks in knots, \n",
      "then clunked into the kitchen \n",
      "and dismantled pans and pots, \n",
      "the thing was not behaving \n",
      "in the fashion we had planned. \n",
      "it clanked into the bathroom \n",
      "and Ultron filled the tub with sand.\n"
     ]
    }
   ],
   "source": [
    "print(verse3.replace(\" it \", \" Ultron \"))# Replacing substrings\n"
   ]
  },
  {
   "cell_type": "markdown",
   "metadata": {},
   "source": [
    "### E. Splitting and Joining Strings\n",
    "The `.split()` method splits a string into a list of substrings. In natural language processing, splitting a string into words is called tokenization. The `.join()` method joins all of the strings in a list into a single string, using a separator character specified by the user.f"
   ]
  },
  {
   "cell_type": "code",
   "execution_count": 77,
   "metadata": {},
   "outputs": [
    {
     "name": "stdout",
     "output_type": "stream",
     "text": [
      "Words in verse 3 of 'My Brother Build a Robot'\n",
      "['That', 'robot', 'seemed', 'relentless', 'as', 'it', 'tied', 'our', 'socks', 'in', 'knots,', 'then', 'clunked', 'into', 'the', 'kitchen', 'and', 'dismantled', 'pans', 'and', 'pots,', 'the', 'thing', 'was', 'not', 'behaving', 'in', 'the', 'fashion', 'we', 'had', 'planned.', 'it', 'clanked', 'into', 'the', 'bathroom', 'and', 'it', 'filled', 'the', 'tub', 'with', 'sand.']\n",
      "\n",
      "Number of words in verse 3: 44\n",
      "Number of unique words: 34\n"
     ]
    },
    {
     "data": {
      "text/plain": [
       "'That...robot...seemed...relentless...as...it...tied...our...socks...in...knots,...then...clunked...into...the...kitchen...and...dismantled...pans...and...pots,...the...thing...was...not...behaving...in...the...fashion...we...had...planned....it...clanked...into...the...bathroom...and...it...filled...the...tub...with...sand.'"
      ]
     },
     "execution_count": 77,
     "metadata": {},
     "output_type": "execute_result"
    }
   ],
   "source": [
    "# Split string into a list of individual words\n",
    "print(\"Words in verse 3 of 'My Brother Build a Robot'\")\n",
    "v3_words = verse3.split()\n",
    "print(v3_words)\n",
    "print()\n",
    "\n",
    "print(\"Number of words in verse 3:\", len(v3_words))\n",
    "print(\"Number of unique words:\", len(set(v3_words)))\n",
    "\n",
    "# Rejoin words with different puncuation\n",
    "\"...\".join(v3_words)"
   ]
  },
  {
   "cell_type": "markdown",
   "metadata": {},
   "source": [
    "The `.splitlines()` method splits a string into separate lines, breaking the string at the newline character, carriage return, and a few other characters. Check the documentation for the complete list."
   ]
  },
  {
   "cell_type": "code",
   "execution_count": 78,
   "metadata": {},
   "outputs": [
    {
     "data": {
      "text/plain": [
       "['',\n",
       " 'That robot seemed relentless ',\n",
       " 'as it tied our socks in knots, ',\n",
       " 'then clunked into the kitchen ',\n",
       " 'and dismantled pans and pots, ',\n",
       " 'the thing was not behaving ',\n",
       " 'in the fashion we had planned. ',\n",
       " 'it clanked into the bathroom ',\n",
       " 'and it filled the tub with sand.']"
      ]
     },
     "execution_count": 78,
     "metadata": {},
     "output_type": "execute_result"
    }
   ],
   "source": [
    "# Splitting a character into lines\n",
    "verse3.splitlines()"
   ]
  },
  {
   "cell_type": "markdown",
   "metadata": {},
   "source": [
    "### F. Dealing with White Space\n",
    "The `.lstrip()` method removes whitespace or other characters from the beginning of a string. The `.rstrip()` method removes whitespace from the end, and `.strip()` removes whitespace from both ends."
   ]
  },
  {
   "cell_type": "code",
   "execution_count": 79,
   "metadata": {},
   "outputs": [
    {
     "data": {
      "text/plain": [
       "'Stripping Whitespace!'"
      ]
     },
     "execution_count": 79,
     "metadata": {},
     "output_type": "execute_result"
    }
   ],
   "source": [
    "# Stripping Whitespace\n",
    "\"\\t\\t  Stripping Whitespace! \\n  \\n\".strip()"
   ]
  },
  {
   "cell_type": "markdown",
   "metadata": {},
   "source": [
    "### G. Testing Strings\n",
    "Python provides several methods that will test if a string meets certain conditions, like if it contains only digits, alphanumeric characters, etc. The methods return either `True` or `False`."
   ]
  },
  {
   "cell_type": "code",
   "execution_count": 80,
   "metadata": {},
   "outputs": [
    {
     "name": "stdout",
     "output_type": "stream",
     "text": [
      "Is verse 3 completely alphanumeric?      False\n",
      "Is 'verse3' alphanumeric:                True\n",
      "\n",
      "Does '3.14159' contain only digits?      False\n",
      "Is '1318' numeric?                       True\n",
      "\n",
      "IS THIS UPPERCASE?                       True\n"
     ]
    }
   ],
   "source": [
    "# Check if a string consists only of letters and numbers\n",
    "print(\"Is verse 3 completely alphanumeric?\".ljust(40), verse3.isalnum())\n",
    "print(\"Is 'verse3' alphanumeric:\".ljust(40), \"verse3\".isalnum())\n",
    "print()\n",
    "print(\"Does '3.14159' contain only digits?\".ljust(40), \"3.14159\".isdigit())\n",
    "print(\"Is '1318' numeric?\".ljust(40), \"1318\".isnumeric())\n",
    "print()\n",
    "print(\"IS THIS UPPERCASE?\".ljust(40), \"IS THIS UPPERCASE?\".isupper())"
   ]
  },
  {
   "cell_type": "markdown",
   "metadata": {},
   "source": [
    "### H. String Constants\n",
    "As documented in https://docs.python.org/3/library/string.html, the string class provides several constants that can come in handy. A few examples are shown below."
   ]
  },
  {
   "cell_type": "code",
   "execution_count": 81,
   "metadata": {},
   "outputs": [
    {
     "name": "stdout",
     "output_type": "stream",
     "text": [
      "ASCII Letters: abcdefghijklmnopqrstuvwxyzABCDEFGHIJKLMNOPQRSTUVWXYZ\n",
      "ASCII Lowercase: abcdefghijklmnopqrstuvwxyz\n",
      "Hex Digits: 0123456789abcdefABCDEF\n",
      "Punctuation Symbols !\"#$%&'()*+,-./:;<=>?@[\\]^_`{|}~\n"
     ]
    }
   ],
   "source": [
    "import string\n",
    "print(\"ASCII Letters:\", string.ascii_letters)\n",
    "print(\"ASCII Lowercase:\", string.ascii_lowercase)\n",
    "print(\"Hex Digits:\", string.hexdigits)\n",
    "print(\"Punctuation Symbols\", string.punctuation)"
   ]
  },
  {
   "cell_type": "markdown",
   "metadata": {},
   "source": [
    "### G. Exercises"
   ]
  },
  {
   "cell_type": "markdown",
   "metadata": {},
   "source": [
    "**Ex. VI.1** For security reasons, companies usually set minimum length and complexity requirements for passwords used to log into accounts. Write a function that uses string slicing and string methods, and checks whether a string meets the following password requirements:\n",
    "* At least two characters must be upper case\n",
    "* At least two characters must be lower case\n",
    "* At least two characters must be the punctuation symbols\n",
    "* At least two characters must be digits\n",
    "* The password must be between 8 and 20 characters long\n",
    "\n",
    "The function should return True or False."
   ]
  },
  {
   "cell_type": "code",
   "execution_count": 91,
   "metadata": {},
   "outputs": [
    {
     "name": "stdout",
     "output_type": "stream",
     "text": [
      "True True True False False False\n"
     ]
    }
   ],
   "source": [
    "# Ex VI.1\n",
    "import string\n",
    "\n",
    "def check_pwd(pwd):\n",
    "    count = 0\n",
    "    # Fill in the rest of the function here.\n",
    "    for letter in pwd:\n",
    "        if letter.isupper() == True: \n",
    "            count += 1\n",
    "        if count == 2:\n",
    "            count = 0\n",
    "            for letter in pwd:\n",
    "                if letter.islower() == True:\n",
    "                    count += 1\n",
    "                    if count == 2:\n",
    "                        count = 0\n",
    "                        for letter in pwd:\n",
    "                            if letter.islower() == True:\n",
    "                                count += 1\n",
    "                                if count == 2:\n",
    "                                    count = 0\n",
    "                                    for letter in pwd:\n",
    "                                        for punc in string.punctuation:\n",
    "                                            if letter == punc:\n",
    "                                                count += 1\n",
    "                                                if count == 2:\n",
    "                                                    count = 0\n",
    "                                                    for letter in pwd:\n",
    "                                                        if letter.isdigit() == True:\n",
    "                                                            count += 1\n",
    "                                                            if count == 2:\n",
    "                                                                count = 0\n",
    "                                                                if len(pwd) >= 8 and len(pwd) <= 20:\n",
    "                                                                    return True\n",
    "    return False\n",
    "                                                \n",
    "                                        \n",
    "            \n",
    "\n",
    "# Test the function by running this statement.\n",
    "# Results should be True True True False False False\n",
    "print(check_pwd(\"A\\u042Fbb99{}\"), check_pwd(\"ABcd56()\"), check_pwd(\"ABc\\u03C356!'\"),\n",
    "     check_pwd(\"ABcd56%&....................\"), check_pwd(\"ABc56()\"), check_pwd(\"ABcd56*\"))"
   ]
  },
  {
   "cell_type": "markdown",
   "metadata": {},
   "source": [
    "**Ex. VI.2**\n",
    "There is a json file that contains a match schedule for a robotics competition at `data/wasno2020.json`.\n",
    "1. Use the `json` module to read the data from the file.\n",
    "2. Print a table with 3 columns, one for the match number, one for the red alliance teams, and one for the blue alliance teams.\n",
    "3. The table should have column labels.\n",
    "4. The data in each column should be padded to the same width and have consistent alignment (left, right, or center)."
   ]
  },
  {
   "cell_type": "code",
   "execution_count": 278,
   "metadata": {
    "scrolled": true
   },
   "outputs": [
    {
     "name": "stdout",
     "output_type": "stream",
     "text": [
      "        Match Number |     Red Alliance     | Blue Alliance       \n",
      "---------------------|----------------------|---------------------\n",
      "                   1 |  4131   4683   2412  | 1318   4089   8059   \n",
      "                   2 |  4205   4180   2910  | 3826   2928   7118   \n",
      "                   3 |  4918   4173   4513  | 4512   1294   4309   \n",
      "                   4 |  2522   5588   8032  | 1778   2903   7627   \n",
      "                   5 |  4915   492    949   | 4682   3070   8248   \n",
      "                   6 |  2930   4681   4911  | 1899   3268   7461   \n",
      "                   7 |  2976   4131   4089  | 4309   1778   2910   \n",
      "                   8 |  8248   1294   4918  | 4180   5588   4682   \n",
      "                   9 |  2930   3268   3826  | 8032   1318   4512   \n",
      "                  10 |  1899   4915   8059  | 7461   2412   4513   \n",
      "                  11 |  2928   4681   4205  | 2522   2976   3070   \n",
      "                  12 |  492    7118   7627  | 4911   2903   4173   \n",
      "                  13 |  4683   4512   7461  | 949    4309   4180   \n",
      "                  14 |  4682   2928   8059  | 2930   5588   4089   \n",
      "                  15 |  2522   4918   2903  | 2910   1318   3070   \n",
      "                  16 |  7118   1899   1294  | 8248   949    4683   \n",
      "                  17 |  1778   2976   2412  | 4513   3826   492    \n",
      "                  18 |  4915   3268   4681  | 4173   4131   4205   \n",
      "                  19 |  949    4911   8032  | 7627   2928   4918   \n",
      "                  20 |  2903   4180   1899  | 2412   492    2910   \n",
      "                  21 |  7461   3826   4682  | 3070   4513   5588   \n",
      "                  22 |  4309   2930   2976  | 4131   8059   4911   \n",
      "                  23 |  4089   4205   4683  | 8032   4915   4173   \n",
      "                  24 |  1294   2522   1318  | 1778   4512   7118   \n",
      "                  25 |  492    3268   8248  | 4681   7627   7461   \n",
      "                  26 |  1899   4911   2910  | 4513   2903   2928   \n",
      "                  27 |  7118   4173   2930  | 4309   8059   3826   \n",
      "                  28 |  1318   1778   949   | 4681   8032   4180   \n",
      "                  29 |  2412   4682   4512  | 2976   4205   8248   \n",
      "                  30 |  4089   3070   4918  | 5588   7627   3268   \n",
      "                  31 |  4131   1294   4915  | 4683   2522   1899   \n",
      "                  32 |  7461   1318   4173  | 2928   949    2976   \n",
      "                  33 |  8059   2910   4681  | 4682   7627   8032   \n",
      "                  34 |  3070   4131   4309  | 1294   2412   4180   \n",
      "                  35 |  2903   4512   3268  | 4915   4683   1778   \n",
      "                  36 |  4513   2930   2522  | 7118   8248   4089   \n",
      "                  37 |  5588   4918   3826  | 492    4205   4911   \n",
      "                  38 |  2910   4682   4131  | 4512   4173   949    \n",
      "                  39 |  1778   7461   2930  | 7627   4683   4513   \n",
      "                  40 |  5588   8248   4309  | 4681   2522   492    \n",
      "                  41 |  2976   1899   1318  | 3268   4205   7118   \n",
      "                  42 |  2903   4089   2412  | 8032   3826   1294   \n",
      "                  43 |  4915   4911   3070  | 8059   4180   4918   \n",
      "                  44 |  2928   4309   3268  | 4682   2522   949    \n",
      "                  45 |  7118   4131   1318  | 8248   7461   2903   \n",
      "                  46 |  5588   492    1294  | 2910   4915   2930   \n",
      "                  47 |  4683   4681   3070  | 4911   2412   3826   \n",
      "                  48 |  4173   4180   2928  | 4205   4513   1778   \n",
      "                  49 |  7627   1899   4512  | 8032   8059   2976   \n",
      "                  50 |  4918   2910   7118  | 4089   7461   4915   \n",
      "                  51 |  4681   4513   8248  | 4131   2928   5588   \n",
      "                  52 |  492    3070   2903  | 1318   2930   4682   \n",
      "                  53 |  4309   8032   4205  | 3268   4911   1294   \n",
      "                  54 |  4180   7627   2522  | 3826   4683   2976   \n",
      "                  55 |  4173   8059   1778  | 2412   4918   1899   \n",
      "                  56 |  4512   4089   4513  | 949    4681   2903   \n",
      "                  57 |  4911   4309   7627  | 1318   4915   2928   \n",
      "                  58 |  4205   3826   2522  | 8059   7461   492    \n",
      "                  59 |  4918   8032   1778  | 2930   8248   4131   \n",
      "                  60 |  3268   4173   4683  | 949    2910   5588   \n",
      "                  61 |  3070   4512   4180  | 4089   1899   4682   \n",
      "                  62 |  1294   2976   7627  | 2412   7118   4915   \n",
      "                  63 |  8059   949    2930  | 3826   1778   4681   \n",
      "                  64 |  1899   5588   4205  | 2903   4309   4683   \n",
      "                  65 |  2976   7461   4911  | 1294   4089   4173   \n",
      "                  66 |  4180   4513   1318  | 4918   4682   3268   \n",
      "                  67 |  8248   2412   2928  | 2522   2910   4512   \n",
      "                  68 |  492    8032   4131  | 3070   7118   7461   \n",
      "                  69 |  5588   2903   8059  | 3268   2976   4180   \n",
      "                  70 |  7627   949    4089  | 4205   2930   2412   \n",
      "                  71 |  3826   8248   4915  | 4173   3070   1899   \n",
      "                  72 |  4911   4682   7118  | 4131   1778   2522   \n",
      "                  73 |  4683   1294   2928  | 4512   4918   492    \n",
      "                  74 |  2910   4513   8032  | 4309   1318   4681   \n"
     ]
    },
    {
     "data": {
      "text/plain": [
       "{'Schedule': [{'description': 'Qualification 1',\n",
       "   'field': 'Primary',\n",
       "   'tournamentLevel': 'Qualification',\n",
       "   'startTime': '2020-02-29T11:00:00',\n",
       "   'matchNumber': 1,\n",
       "   'teams': [{'teamNumber': 4131, 'station': 'Red1', 'surrogate': False},\n",
       "    {'teamNumber': 4683, 'station': 'Red2', 'surrogate': False},\n",
       "    {'teamNumber': 2412, 'station': 'Red3', 'surrogate': False},\n",
       "    {'teamNumber': 1318, 'station': 'Blue1', 'surrogate': False},\n",
       "    {'teamNumber': 4089, 'station': 'Blue2', 'surrogate': False},\n",
       "    {'teamNumber': 8059, 'station': 'Blue3', 'surrogate': False}]},\n",
       "  {'description': 'Qualification 2',\n",
       "   'field': 'Primary',\n",
       "   'tournamentLevel': 'Qualification',\n",
       "   'startTime': '2020-02-29T11:09:00',\n",
       "   'matchNumber': 2,\n",
       "   'teams': [{'teamNumber': 4205, 'station': 'Red1', 'surrogate': False},\n",
       "    {'teamNumber': 4180, 'station': 'Red2', 'surrogate': False},\n",
       "    {'teamNumber': 2910, 'station': 'Red3', 'surrogate': False},\n",
       "    {'teamNumber': 3826, 'station': 'Blue1', 'surrogate': False},\n",
       "    {'teamNumber': 2928, 'station': 'Blue2', 'surrogate': False},\n",
       "    {'teamNumber': 7118, 'station': 'Blue3', 'surrogate': False}]},\n",
       "  {'description': 'Qualification 3',\n",
       "   'field': 'Primary',\n",
       "   'tournamentLevel': 'Qualification',\n",
       "   'startTime': '2020-02-29T11:18:00',\n",
       "   'matchNumber': 3,\n",
       "   'teams': [{'teamNumber': 4918, 'station': 'Red1', 'surrogate': False},\n",
       "    {'teamNumber': 4173, 'station': 'Red2', 'surrogate': False},\n",
       "    {'teamNumber': 4513, 'station': 'Red3', 'surrogate': False},\n",
       "    {'teamNumber': 4512, 'station': 'Blue1', 'surrogate': False},\n",
       "    {'teamNumber': 1294, 'station': 'Blue2', 'surrogate': False},\n",
       "    {'teamNumber': 4309, 'station': 'Blue3', 'surrogate': False}]},\n",
       "  {'description': 'Qualification 4',\n",
       "   'field': 'Primary',\n",
       "   'tournamentLevel': 'Qualification',\n",
       "   'startTime': '2020-02-29T11:27:00',\n",
       "   'matchNumber': 4,\n",
       "   'teams': [{'teamNumber': 2522, 'station': 'Red1', 'surrogate': False},\n",
       "    {'teamNumber': 5588, 'station': 'Red2', 'surrogate': False},\n",
       "    {'teamNumber': 8032, 'station': 'Red3', 'surrogate': False},\n",
       "    {'teamNumber': 1778, 'station': 'Blue1', 'surrogate': False},\n",
       "    {'teamNumber': 2903, 'station': 'Blue2', 'surrogate': False},\n",
       "    {'teamNumber': 7627, 'station': 'Blue3', 'surrogate': False}]},\n",
       "  {'description': 'Qualification 5',\n",
       "   'field': 'Primary',\n",
       "   'tournamentLevel': 'Qualification',\n",
       "   'startTime': '2020-02-29T11:36:00',\n",
       "   'matchNumber': 5,\n",
       "   'teams': [{'teamNumber': 4915, 'station': 'Red1', 'surrogate': False},\n",
       "    {'teamNumber': 492, 'station': 'Red2', 'surrogate': False},\n",
       "    {'teamNumber': 949, 'station': 'Red3', 'surrogate': False},\n",
       "    {'teamNumber': 4682, 'station': 'Blue1', 'surrogate': False},\n",
       "    {'teamNumber': 3070, 'station': 'Blue2', 'surrogate': False},\n",
       "    {'teamNumber': 8248, 'station': 'Blue3', 'surrogate': False}]},\n",
       "  {'description': 'Qualification 6',\n",
       "   'field': 'Primary',\n",
       "   'tournamentLevel': 'Qualification',\n",
       "   'startTime': '2020-02-29T11:45:00',\n",
       "   'matchNumber': 6,\n",
       "   'teams': [{'teamNumber': 2930, 'station': 'Red1', 'surrogate': False},\n",
       "    {'teamNumber': 4681, 'station': 'Red2', 'surrogate': False},\n",
       "    {'teamNumber': 4911, 'station': 'Red3', 'surrogate': False},\n",
       "    {'teamNumber': 1899, 'station': 'Blue1', 'surrogate': False},\n",
       "    {'teamNumber': 3268, 'station': 'Blue2', 'surrogate': False},\n",
       "    {'teamNumber': 7461, 'station': 'Blue3', 'surrogate': False}]},\n",
       "  {'description': 'Qualification 7',\n",
       "   'field': 'Primary',\n",
       "   'tournamentLevel': 'Qualification',\n",
       "   'startTime': '2020-02-29T11:54:00',\n",
       "   'matchNumber': 7,\n",
       "   'teams': [{'teamNumber': 2976, 'station': 'Red1', 'surrogate': False},\n",
       "    {'teamNumber': 4131, 'station': 'Red2', 'surrogate': False},\n",
       "    {'teamNumber': 4089, 'station': 'Red3', 'surrogate': False},\n",
       "    {'teamNumber': 4309, 'station': 'Blue1', 'surrogate': False},\n",
       "    {'teamNumber': 1778, 'station': 'Blue2', 'surrogate': False},\n",
       "    {'teamNumber': 2910, 'station': 'Blue3', 'surrogate': False}]},\n",
       "  {'description': 'Qualification 8',\n",
       "   'field': 'Primary',\n",
       "   'tournamentLevel': 'Qualification',\n",
       "   'startTime': '2020-02-29T12:03:00',\n",
       "   'matchNumber': 8,\n",
       "   'teams': [{'teamNumber': 8248, 'station': 'Red1', 'surrogate': False},\n",
       "    {'teamNumber': 1294, 'station': 'Red2', 'surrogate': False},\n",
       "    {'teamNumber': 4918, 'station': 'Red3', 'surrogate': False},\n",
       "    {'teamNumber': 4180, 'station': 'Blue1', 'surrogate': False},\n",
       "    {'teamNumber': 5588, 'station': 'Blue2', 'surrogate': False},\n",
       "    {'teamNumber': 4682, 'station': 'Blue3', 'surrogate': False}]},\n",
       "  {'description': 'Qualification 9',\n",
       "   'field': 'Primary',\n",
       "   'tournamentLevel': 'Qualification',\n",
       "   'startTime': '2020-02-29T12:11:00',\n",
       "   'matchNumber': 9,\n",
       "   'teams': [{'teamNumber': 2930, 'station': 'Red1', 'surrogate': False},\n",
       "    {'teamNumber': 3268, 'station': 'Red2', 'surrogate': False},\n",
       "    {'teamNumber': 3826, 'station': 'Red3', 'surrogate': False},\n",
       "    {'teamNumber': 8032, 'station': 'Blue1', 'surrogate': False},\n",
       "    {'teamNumber': 1318, 'station': 'Blue2', 'surrogate': False},\n",
       "    {'teamNumber': 4512, 'station': 'Blue3', 'surrogate': False}]},\n",
       "  {'description': 'Qualification 10',\n",
       "   'field': 'Primary',\n",
       "   'tournamentLevel': 'Qualification',\n",
       "   'startTime': '2020-02-29T12:19:00',\n",
       "   'matchNumber': 10,\n",
       "   'teams': [{'teamNumber': 1899, 'station': 'Red1', 'surrogate': False},\n",
       "    {'teamNumber': 4915, 'station': 'Red2', 'surrogate': False},\n",
       "    {'teamNumber': 8059, 'station': 'Red3', 'surrogate': False},\n",
       "    {'teamNumber': 7461, 'station': 'Blue1', 'surrogate': False},\n",
       "    {'teamNumber': 2412, 'station': 'Blue2', 'surrogate': False},\n",
       "    {'teamNumber': 4513, 'station': 'Blue3', 'surrogate': False}]},\n",
       "  {'description': 'Qualification 11',\n",
       "   'field': 'Primary',\n",
       "   'tournamentLevel': 'Qualification',\n",
       "   'startTime': '2020-02-29T12:27:00',\n",
       "   'matchNumber': 11,\n",
       "   'teams': [{'teamNumber': 2928, 'station': 'Red1', 'surrogate': False},\n",
       "    {'teamNumber': 4681, 'station': 'Red2', 'surrogate': False},\n",
       "    {'teamNumber': 4205, 'station': 'Red3', 'surrogate': False},\n",
       "    {'teamNumber': 2522, 'station': 'Blue1', 'surrogate': False},\n",
       "    {'teamNumber': 2976, 'station': 'Blue2', 'surrogate': False},\n",
       "    {'teamNumber': 3070, 'station': 'Blue3', 'surrogate': False}]},\n",
       "  {'description': 'Qualification 12',\n",
       "   'field': 'Primary',\n",
       "   'tournamentLevel': 'Qualification',\n",
       "   'startTime': '2020-02-29T12:35:00',\n",
       "   'matchNumber': 12,\n",
       "   'teams': [{'teamNumber': 492, 'station': 'Red1', 'surrogate': False},\n",
       "    {'teamNumber': 7118, 'station': 'Red2', 'surrogate': False},\n",
       "    {'teamNumber': 7627, 'station': 'Red3', 'surrogate': False},\n",
       "    {'teamNumber': 4911, 'station': 'Blue1', 'surrogate': False},\n",
       "    {'teamNumber': 2903, 'station': 'Blue2', 'surrogate': False},\n",
       "    {'teamNumber': 4173, 'station': 'Blue3', 'surrogate': False}]},\n",
       "  {'description': 'Qualification 13',\n",
       "   'field': 'Primary',\n",
       "   'tournamentLevel': 'Qualification',\n",
       "   'startTime': '2020-02-29T12:43:00',\n",
       "   'matchNumber': 13,\n",
       "   'teams': [{'teamNumber': 4683, 'station': 'Red1', 'surrogate': False},\n",
       "    {'teamNumber': 4512, 'station': 'Red2', 'surrogate': False},\n",
       "    {'teamNumber': 7461, 'station': 'Red3', 'surrogate': False},\n",
       "    {'teamNumber': 949, 'station': 'Blue1', 'surrogate': False},\n",
       "    {'teamNumber': 4309, 'station': 'Blue2', 'surrogate': False},\n",
       "    {'teamNumber': 4180, 'station': 'Blue3', 'surrogate': False}]},\n",
       "  {'description': 'Qualification 14',\n",
       "   'field': 'Primary',\n",
       "   'tournamentLevel': 'Qualification',\n",
       "   'startTime': '2020-02-29T12:51:00',\n",
       "   'matchNumber': 14,\n",
       "   'teams': [{'teamNumber': 4682, 'station': 'Red1', 'surrogate': False},\n",
       "    {'teamNumber': 2928, 'station': 'Red2', 'surrogate': False},\n",
       "    {'teamNumber': 8059, 'station': 'Red3', 'surrogate': False},\n",
       "    {'teamNumber': 2930, 'station': 'Blue1', 'surrogate': False},\n",
       "    {'teamNumber': 5588, 'station': 'Blue2', 'surrogate': False},\n",
       "    {'teamNumber': 4089, 'station': 'Blue3', 'surrogate': False}]},\n",
       "  {'description': 'Qualification 15',\n",
       "   'field': 'Primary',\n",
       "   'tournamentLevel': 'Qualification',\n",
       "   'startTime': '2020-02-29T14:00:00',\n",
       "   'matchNumber': 15,\n",
       "   'teams': [{'teamNumber': 2522, 'station': 'Red1', 'surrogate': False},\n",
       "    {'teamNumber': 4918, 'station': 'Red2', 'surrogate': False},\n",
       "    {'teamNumber': 2903, 'station': 'Red3', 'surrogate': False},\n",
       "    {'teamNumber': 2910, 'station': 'Blue1', 'surrogate': False},\n",
       "    {'teamNumber': 1318, 'station': 'Blue2', 'surrogate': False},\n",
       "    {'teamNumber': 3070, 'station': 'Blue3', 'surrogate': False}]},\n",
       "  {'description': 'Qualification 16',\n",
       "   'field': 'Primary',\n",
       "   'tournamentLevel': 'Qualification',\n",
       "   'startTime': '2020-02-29T14:07:00',\n",
       "   'matchNumber': 16,\n",
       "   'teams': [{'teamNumber': 7118, 'station': 'Red1', 'surrogate': False},\n",
       "    {'teamNumber': 1899, 'station': 'Red2', 'surrogate': False},\n",
       "    {'teamNumber': 1294, 'station': 'Red3', 'surrogate': False},\n",
       "    {'teamNumber': 8248, 'station': 'Blue1', 'surrogate': False},\n",
       "    {'teamNumber': 949, 'station': 'Blue2', 'surrogate': False},\n",
       "    {'teamNumber': 4683, 'station': 'Blue3', 'surrogate': False}]},\n",
       "  {'description': 'Qualification 17',\n",
       "   'field': 'Primary',\n",
       "   'tournamentLevel': 'Qualification',\n",
       "   'startTime': '2020-02-29T14:14:00',\n",
       "   'matchNumber': 17,\n",
       "   'teams': [{'teamNumber': 1778, 'station': 'Red1', 'surrogate': False},\n",
       "    {'teamNumber': 2976, 'station': 'Red2', 'surrogate': False},\n",
       "    {'teamNumber': 2412, 'station': 'Red3', 'surrogate': False},\n",
       "    {'teamNumber': 4513, 'station': 'Blue1', 'surrogate': False},\n",
       "    {'teamNumber': 3826, 'station': 'Blue2', 'surrogate': False},\n",
       "    {'teamNumber': 492, 'station': 'Blue3', 'surrogate': False}]},\n",
       "  {'description': 'Qualification 18',\n",
       "   'field': 'Primary',\n",
       "   'tournamentLevel': 'Qualification',\n",
       "   'startTime': '2020-02-29T14:21:00',\n",
       "   'matchNumber': 18,\n",
       "   'teams': [{'teamNumber': 4915, 'station': 'Red1', 'surrogate': False},\n",
       "    {'teamNumber': 3268, 'station': 'Red2', 'surrogate': False},\n",
       "    {'teamNumber': 4681, 'station': 'Red3', 'surrogate': False},\n",
       "    {'teamNumber': 4173, 'station': 'Blue1', 'surrogate': False},\n",
       "    {'teamNumber': 4131, 'station': 'Blue2', 'surrogate': False},\n",
       "    {'teamNumber': 4205, 'station': 'Blue3', 'surrogate': False}]},\n",
       "  {'description': 'Qualification 19',\n",
       "   'field': 'Primary',\n",
       "   'tournamentLevel': 'Qualification',\n",
       "   'startTime': '2020-02-29T14:28:00',\n",
       "   'matchNumber': 19,\n",
       "   'teams': [{'teamNumber': 949, 'station': 'Red1', 'surrogate': False},\n",
       "    {'teamNumber': 4911, 'station': 'Red2', 'surrogate': False},\n",
       "    {'teamNumber': 8032, 'station': 'Red3', 'surrogate': False},\n",
       "    {'teamNumber': 7627, 'station': 'Blue1', 'surrogate': False},\n",
       "    {'teamNumber': 2928, 'station': 'Blue2', 'surrogate': False},\n",
       "    {'teamNumber': 4918, 'station': 'Blue3', 'surrogate': False}]},\n",
       "  {'description': 'Qualification 20',\n",
       "   'field': 'Primary',\n",
       "   'tournamentLevel': 'Qualification',\n",
       "   'startTime': '2020-02-29T14:35:00',\n",
       "   'matchNumber': 20,\n",
       "   'teams': [{'teamNumber': 2903, 'station': 'Red1', 'surrogate': False},\n",
       "    {'teamNumber': 4180, 'station': 'Red2', 'surrogate': False},\n",
       "    {'teamNumber': 1899, 'station': 'Red3', 'surrogate': False},\n",
       "    {'teamNumber': 2412, 'station': 'Blue1', 'surrogate': False},\n",
       "    {'teamNumber': 492, 'station': 'Blue2', 'surrogate': False},\n",
       "    {'teamNumber': 2910, 'station': 'Blue3', 'surrogate': False}]},\n",
       "  {'description': 'Qualification 21',\n",
       "   'field': 'Primary',\n",
       "   'tournamentLevel': 'Qualification',\n",
       "   'startTime': '2020-02-29T14:42:00',\n",
       "   'matchNumber': 21,\n",
       "   'teams': [{'teamNumber': 7461, 'station': 'Red1', 'surrogate': False},\n",
       "    {'teamNumber': 3826, 'station': 'Red2', 'surrogate': False},\n",
       "    {'teamNumber': 4682, 'station': 'Red3', 'surrogate': False},\n",
       "    {'teamNumber': 3070, 'station': 'Blue1', 'surrogate': False},\n",
       "    {'teamNumber': 4513, 'station': 'Blue2', 'surrogate': False},\n",
       "    {'teamNumber': 5588, 'station': 'Blue3', 'surrogate': False}]},\n",
       "  {'description': 'Qualification 22',\n",
       "   'field': 'Primary',\n",
       "   'tournamentLevel': 'Qualification',\n",
       "   'startTime': '2020-02-29T14:49:00',\n",
       "   'matchNumber': 22,\n",
       "   'teams': [{'teamNumber': 4309, 'station': 'Red1', 'surrogate': False},\n",
       "    {'teamNumber': 2930, 'station': 'Red2', 'surrogate': False},\n",
       "    {'teamNumber': 2976, 'station': 'Red3', 'surrogate': False},\n",
       "    {'teamNumber': 4131, 'station': 'Blue1', 'surrogate': False},\n",
       "    {'teamNumber': 8059, 'station': 'Blue2', 'surrogate': False},\n",
       "    {'teamNumber': 4911, 'station': 'Blue3', 'surrogate': False}]},\n",
       "  {'description': 'Qualification 23',\n",
       "   'field': 'Primary',\n",
       "   'tournamentLevel': 'Qualification',\n",
       "   'startTime': '2020-02-29T14:56:00',\n",
       "   'matchNumber': 23,\n",
       "   'teams': [{'teamNumber': 4089, 'station': 'Red1', 'surrogate': False},\n",
       "    {'teamNumber': 4205, 'station': 'Red2', 'surrogate': False},\n",
       "    {'teamNumber': 4683, 'station': 'Red3', 'surrogate': False},\n",
       "    {'teamNumber': 8032, 'station': 'Blue1', 'surrogate': False},\n",
       "    {'teamNumber': 4915, 'station': 'Blue2', 'surrogate': False},\n",
       "    {'teamNumber': 4173, 'station': 'Blue3', 'surrogate': False}]},\n",
       "  {'description': 'Qualification 24',\n",
       "   'field': 'Primary',\n",
       "   'tournamentLevel': 'Qualification',\n",
       "   'startTime': '2020-02-29T15:03:00',\n",
       "   'matchNumber': 24,\n",
       "   'teams': [{'teamNumber': 1294, 'station': 'Red1', 'surrogate': False},\n",
       "    {'teamNumber': 2522, 'station': 'Red2', 'surrogate': False},\n",
       "    {'teamNumber': 1318, 'station': 'Red3', 'surrogate': False},\n",
       "    {'teamNumber': 1778, 'station': 'Blue1', 'surrogate': False},\n",
       "    {'teamNumber': 4512, 'station': 'Blue2', 'surrogate': False},\n",
       "    {'teamNumber': 7118, 'station': 'Blue3', 'surrogate': False}]},\n",
       "  {'description': 'Qualification 25',\n",
       "   'field': 'Primary',\n",
       "   'tournamentLevel': 'Qualification',\n",
       "   'startTime': '2020-02-29T15:10:00',\n",
       "   'matchNumber': 25,\n",
       "   'teams': [{'teamNumber': 492, 'station': 'Red1', 'surrogate': False},\n",
       "    {'teamNumber': 3268, 'station': 'Red2', 'surrogate': False},\n",
       "    {'teamNumber': 8248, 'station': 'Red3', 'surrogate': False},\n",
       "    {'teamNumber': 4681, 'station': 'Blue1', 'surrogate': False},\n",
       "    {'teamNumber': 7627, 'station': 'Blue2', 'surrogate': False},\n",
       "    {'teamNumber': 7461, 'station': 'Blue3', 'surrogate': False}]},\n",
       "  {'description': 'Qualification 26',\n",
       "   'field': 'Primary',\n",
       "   'tournamentLevel': 'Qualification',\n",
       "   'startTime': '2020-02-29T15:17:00',\n",
       "   'matchNumber': 26,\n",
       "   'teams': [{'teamNumber': 1899, 'station': 'Red1', 'surrogate': False},\n",
       "    {'teamNumber': 4911, 'station': 'Red2', 'surrogate': False},\n",
       "    {'teamNumber': 2910, 'station': 'Red3', 'surrogate': False},\n",
       "    {'teamNumber': 4513, 'station': 'Blue1', 'surrogate': False},\n",
       "    {'teamNumber': 2903, 'station': 'Blue2', 'surrogate': False},\n",
       "    {'teamNumber': 2928, 'station': 'Blue3', 'surrogate': False}]},\n",
       "  {'description': 'Qualification 27',\n",
       "   'field': 'Primary',\n",
       "   'tournamentLevel': 'Qualification',\n",
       "   'startTime': '2020-02-29T15:24:00',\n",
       "   'matchNumber': 27,\n",
       "   'teams': [{'teamNumber': 7118, 'station': 'Red1', 'surrogate': False},\n",
       "    {'teamNumber': 4173, 'station': 'Red2', 'surrogate': False},\n",
       "    {'teamNumber': 2930, 'station': 'Red3', 'surrogate': False},\n",
       "    {'teamNumber': 4309, 'station': 'Blue1', 'surrogate': False},\n",
       "    {'teamNumber': 8059, 'station': 'Blue2', 'surrogate': False},\n",
       "    {'teamNumber': 3826, 'station': 'Blue3', 'surrogate': False}]},\n",
       "  {'description': 'Qualification 28',\n",
       "   'field': 'Primary',\n",
       "   'tournamentLevel': 'Qualification',\n",
       "   'startTime': '2020-02-29T15:31:00',\n",
       "   'matchNumber': 28,\n",
       "   'teams': [{'teamNumber': 1318, 'station': 'Red1', 'surrogate': False},\n",
       "    {'teamNumber': 1778, 'station': 'Red2', 'surrogate': False},\n",
       "    {'teamNumber': 949, 'station': 'Red3', 'surrogate': False},\n",
       "    {'teamNumber': 4681, 'station': 'Blue1', 'surrogate': False},\n",
       "    {'teamNumber': 8032, 'station': 'Blue2', 'surrogate': False},\n",
       "    {'teamNumber': 4180, 'station': 'Blue3', 'surrogate': False}]},\n",
       "  {'description': 'Qualification 29',\n",
       "   'field': 'Primary',\n",
       "   'tournamentLevel': 'Qualification',\n",
       "   'startTime': '2020-02-29T15:38:00',\n",
       "   'matchNumber': 29,\n",
       "   'teams': [{'teamNumber': 2412, 'station': 'Red1', 'surrogate': False},\n",
       "    {'teamNumber': 4682, 'station': 'Red2', 'surrogate': False},\n",
       "    {'teamNumber': 4512, 'station': 'Red3', 'surrogate': False},\n",
       "    {'teamNumber': 2976, 'station': 'Blue1', 'surrogate': False},\n",
       "    {'teamNumber': 4205, 'station': 'Blue2', 'surrogate': False},\n",
       "    {'teamNumber': 8248, 'station': 'Blue3', 'surrogate': False}]},\n",
       "  {'description': 'Qualification 30',\n",
       "   'field': 'Primary',\n",
       "   'tournamentLevel': 'Qualification',\n",
       "   'startTime': '2020-02-29T15:45:00',\n",
       "   'matchNumber': 30,\n",
       "   'teams': [{'teamNumber': 4089, 'station': 'Red1', 'surrogate': False},\n",
       "    {'teamNumber': 3070, 'station': 'Red2', 'surrogate': False},\n",
       "    {'teamNumber': 4918, 'station': 'Red3', 'surrogate': False},\n",
       "    {'teamNumber': 5588, 'station': 'Blue1', 'surrogate': False},\n",
       "    {'teamNumber': 7627, 'station': 'Blue2', 'surrogate': False},\n",
       "    {'teamNumber': 3268, 'station': 'Blue3', 'surrogate': False}]},\n",
       "  {'description': 'Qualification 31',\n",
       "   'field': 'Primary',\n",
       "   'tournamentLevel': 'Qualification',\n",
       "   'startTime': '2020-02-29T15:52:00',\n",
       "   'matchNumber': 31,\n",
       "   'teams': [{'teamNumber': 4131, 'station': 'Red1', 'surrogate': False},\n",
       "    {'teamNumber': 1294, 'station': 'Red2', 'surrogate': False},\n",
       "    {'teamNumber': 4915, 'station': 'Red3', 'surrogate': False},\n",
       "    {'teamNumber': 4683, 'station': 'Blue1', 'surrogate': False},\n",
       "    {'teamNumber': 2522, 'station': 'Blue2', 'surrogate': False},\n",
       "    {'teamNumber': 1899, 'station': 'Blue3', 'surrogate': False}]},\n",
       "  {'description': 'Qualification 32',\n",
       "   'field': 'Primary',\n",
       "   'tournamentLevel': 'Qualification',\n",
       "   'startTime': '2020-02-29T16:15:00',\n",
       "   'matchNumber': 32,\n",
       "   'teams': [{'teamNumber': 7461, 'station': 'Red1', 'surrogate': False},\n",
       "    {'teamNumber': 1318, 'station': 'Red2', 'surrogate': False},\n",
       "    {'teamNumber': 4173, 'station': 'Red3', 'surrogate': False},\n",
       "    {'teamNumber': 2928, 'station': 'Blue1', 'surrogate': False},\n",
       "    {'teamNumber': 949, 'station': 'Blue2', 'surrogate': False},\n",
       "    {'teamNumber': 2976, 'station': 'Blue3', 'surrogate': False}]},\n",
       "  {'description': 'Qualification 33',\n",
       "   'field': 'Primary',\n",
       "   'tournamentLevel': 'Qualification',\n",
       "   'startTime': '2020-02-29T16:22:00',\n",
       "   'matchNumber': 33,\n",
       "   'teams': [{'teamNumber': 8059, 'station': 'Red1', 'surrogate': False},\n",
       "    {'teamNumber': 2910, 'station': 'Red2', 'surrogate': False},\n",
       "    {'teamNumber': 4681, 'station': 'Red3', 'surrogate': False},\n",
       "    {'teamNumber': 4682, 'station': 'Blue1', 'surrogate': False},\n",
       "    {'teamNumber': 7627, 'station': 'Blue2', 'surrogate': False},\n",
       "    {'teamNumber': 8032, 'station': 'Blue3', 'surrogate': False}]},\n",
       "  {'description': 'Qualification 34',\n",
       "   'field': 'Primary',\n",
       "   'tournamentLevel': 'Qualification',\n",
       "   'startTime': '2020-02-29T16:29:00',\n",
       "   'matchNumber': 34,\n",
       "   'teams': [{'teamNumber': 3070, 'station': 'Red1', 'surrogate': False},\n",
       "    {'teamNumber': 4131, 'station': 'Red2', 'surrogate': False},\n",
       "    {'teamNumber': 4309, 'station': 'Red3', 'surrogate': False},\n",
       "    {'teamNumber': 1294, 'station': 'Blue1', 'surrogate': False},\n",
       "    {'teamNumber': 2412, 'station': 'Blue2', 'surrogate': False},\n",
       "    {'teamNumber': 4180, 'station': 'Blue3', 'surrogate': False}]},\n",
       "  {'description': 'Qualification 35',\n",
       "   'field': 'Primary',\n",
       "   'tournamentLevel': 'Qualification',\n",
       "   'startTime': '2020-02-29T16:36:00',\n",
       "   'matchNumber': 35,\n",
       "   'teams': [{'teamNumber': 2903, 'station': 'Red1', 'surrogate': False},\n",
       "    {'teamNumber': 4512, 'station': 'Red2', 'surrogate': False},\n",
       "    {'teamNumber': 3268, 'station': 'Red3', 'surrogate': False},\n",
       "    {'teamNumber': 4915, 'station': 'Blue1', 'surrogate': False},\n",
       "    {'teamNumber': 4683, 'station': 'Blue2', 'surrogate': False},\n",
       "    {'teamNumber': 1778, 'station': 'Blue3', 'surrogate': False}]},\n",
       "  {'description': 'Qualification 36',\n",
       "   'field': 'Primary',\n",
       "   'tournamentLevel': 'Qualification',\n",
       "   'startTime': '2020-02-29T16:43:00',\n",
       "   'matchNumber': 36,\n",
       "   'teams': [{'teamNumber': 4513, 'station': 'Red1', 'surrogate': False},\n",
       "    {'teamNumber': 2930, 'station': 'Red2', 'surrogate': False},\n",
       "    {'teamNumber': 2522, 'station': 'Red3', 'surrogate': False},\n",
       "    {'teamNumber': 7118, 'station': 'Blue1', 'surrogate': False},\n",
       "    {'teamNumber': 8248, 'station': 'Blue2', 'surrogate': False},\n",
       "    {'teamNumber': 4089, 'station': 'Blue3', 'surrogate': False}]},\n",
       "  {'description': 'Qualification 37',\n",
       "   'field': 'Primary',\n",
       "   'tournamentLevel': 'Qualification',\n",
       "   'startTime': '2020-02-29T16:50:00',\n",
       "   'matchNumber': 37,\n",
       "   'teams': [{'teamNumber': 5588, 'station': 'Red1', 'surrogate': False},\n",
       "    {'teamNumber': 4918, 'station': 'Red2', 'surrogate': False},\n",
       "    {'teamNumber': 3826, 'station': 'Red3', 'surrogate': False},\n",
       "    {'teamNumber': 492, 'station': 'Blue1', 'surrogate': False},\n",
       "    {'teamNumber': 4205, 'station': 'Blue2', 'surrogate': False},\n",
       "    {'teamNumber': 4911, 'station': 'Blue3', 'surrogate': False}]},\n",
       "  {'description': 'Qualification 38',\n",
       "   'field': 'Primary',\n",
       "   'tournamentLevel': 'Qualification',\n",
       "   'startTime': '2020-02-29T16:57:00',\n",
       "   'matchNumber': 38,\n",
       "   'teams': [{'teamNumber': 2910, 'station': 'Red1', 'surrogate': False},\n",
       "    {'teamNumber': 4682, 'station': 'Red2', 'surrogate': False},\n",
       "    {'teamNumber': 4131, 'station': 'Red3', 'surrogate': False},\n",
       "    {'teamNumber': 4512, 'station': 'Blue1', 'surrogate': False},\n",
       "    {'teamNumber': 4173, 'station': 'Blue2', 'surrogate': False},\n",
       "    {'teamNumber': 949, 'station': 'Blue3', 'surrogate': False}]},\n",
       "  {'description': 'Qualification 39',\n",
       "   'field': 'Primary',\n",
       "   'tournamentLevel': 'Qualification',\n",
       "   'startTime': '2020-02-29T17:04:00',\n",
       "   'matchNumber': 39,\n",
       "   'teams': [{'teamNumber': 1778, 'station': 'Red1', 'surrogate': False},\n",
       "    {'teamNumber': 7461, 'station': 'Red2', 'surrogate': False},\n",
       "    {'teamNumber': 2930, 'station': 'Red3', 'surrogate': False},\n",
       "    {'teamNumber': 7627, 'station': 'Blue1', 'surrogate': False},\n",
       "    {'teamNumber': 4683, 'station': 'Blue2', 'surrogate': False},\n",
       "    {'teamNumber': 4513, 'station': 'Blue3', 'surrogate': False}]},\n",
       "  {'description': 'Qualification 40',\n",
       "   'field': 'Primary',\n",
       "   'tournamentLevel': 'Qualification',\n",
       "   'startTime': '2020-02-29T17:11:00',\n",
       "   'matchNumber': 40,\n",
       "   'teams': [{'teamNumber': 5588, 'station': 'Red1', 'surrogate': False},\n",
       "    {'teamNumber': 8248, 'station': 'Red2', 'surrogate': False},\n",
       "    {'teamNumber': 4309, 'station': 'Red3', 'surrogate': False},\n",
       "    {'teamNumber': 4681, 'station': 'Blue1', 'surrogate': False},\n",
       "    {'teamNumber': 2522, 'station': 'Blue2', 'surrogate': False},\n",
       "    {'teamNumber': 492, 'station': 'Blue3', 'surrogate': False}]},\n",
       "  {'description': 'Qualification 41',\n",
       "   'field': 'Primary',\n",
       "   'tournamentLevel': 'Qualification',\n",
       "   'startTime': '2020-02-29T17:18:00',\n",
       "   'matchNumber': 41,\n",
       "   'teams': [{'teamNumber': 2976, 'station': 'Red1', 'surrogate': False},\n",
       "    {'teamNumber': 1899, 'station': 'Red2', 'surrogate': False},\n",
       "    {'teamNumber': 1318, 'station': 'Red3', 'surrogate': False},\n",
       "    {'teamNumber': 3268, 'station': 'Blue1', 'surrogate': False},\n",
       "    {'teamNumber': 4205, 'station': 'Blue2', 'surrogate': False},\n",
       "    {'teamNumber': 7118, 'station': 'Blue3', 'surrogate': False}]},\n",
       "  {'description': 'Qualification 42',\n",
       "   'field': 'Primary',\n",
       "   'tournamentLevel': 'Qualification',\n",
       "   'startTime': '2020-02-29T17:25:00',\n",
       "   'matchNumber': 42,\n",
       "   'teams': [{'teamNumber': 2903, 'station': 'Red1', 'surrogate': False},\n",
       "    {'teamNumber': 4089, 'station': 'Red2', 'surrogate': False},\n",
       "    {'teamNumber': 2412, 'station': 'Red3', 'surrogate': False},\n",
       "    {'teamNumber': 8032, 'station': 'Blue1', 'surrogate': False},\n",
       "    {'teamNumber': 3826, 'station': 'Blue2', 'surrogate': False},\n",
       "    {'teamNumber': 1294, 'station': 'Blue3', 'surrogate': False}]},\n",
       "  {'description': 'Qualification 43',\n",
       "   'field': 'Primary',\n",
       "   'tournamentLevel': 'Qualification',\n",
       "   'startTime': '2020-02-29T17:32:00',\n",
       "   'matchNumber': 43,\n",
       "   'teams': [{'teamNumber': 4915, 'station': 'Red1', 'surrogate': False},\n",
       "    {'teamNumber': 4911, 'station': 'Red2', 'surrogate': False},\n",
       "    {'teamNumber': 3070, 'station': 'Red3', 'surrogate': False},\n",
       "    {'teamNumber': 8059, 'station': 'Blue1', 'surrogate': False},\n",
       "    {'teamNumber': 4180, 'station': 'Blue2', 'surrogate': False},\n",
       "    {'teamNumber': 4918, 'station': 'Blue3', 'surrogate': False}]},\n",
       "  {'description': 'Qualification 44',\n",
       "   'field': 'Primary',\n",
       "   'tournamentLevel': 'Qualification',\n",
       "   'startTime': '2020-02-29T17:39:00',\n",
       "   'matchNumber': 44,\n",
       "   'teams': [{'teamNumber': 2928, 'station': 'Red1', 'surrogate': False},\n",
       "    {'teamNumber': 4309, 'station': 'Red2', 'surrogate': False},\n",
       "    {'teamNumber': 3268, 'station': 'Red3', 'surrogate': False},\n",
       "    {'teamNumber': 4682, 'station': 'Blue1', 'surrogate': False},\n",
       "    {'teamNumber': 2522, 'station': 'Blue2', 'surrogate': False},\n",
       "    {'teamNumber': 949, 'station': 'Blue3', 'surrogate': False}]},\n",
       "  {'description': 'Qualification 45',\n",
       "   'field': 'Primary',\n",
       "   'tournamentLevel': 'Qualification',\n",
       "   'startTime': '2020-02-29T17:46:00',\n",
       "   'matchNumber': 45,\n",
       "   'teams': [{'teamNumber': 7118, 'station': 'Red1', 'surrogate': False},\n",
       "    {'teamNumber': 4131, 'station': 'Red2', 'surrogate': False},\n",
       "    {'teamNumber': 1318, 'station': 'Red3', 'surrogate': False},\n",
       "    {'teamNumber': 8248, 'station': 'Blue1', 'surrogate': False},\n",
       "    {'teamNumber': 7461, 'station': 'Blue2', 'surrogate': False},\n",
       "    {'teamNumber': 2903, 'station': 'Blue3', 'surrogate': False}]},\n",
       "  {'description': 'Qualification 46',\n",
       "   'field': 'Primary',\n",
       "   'tournamentLevel': 'Qualification',\n",
       "   'startTime': '2020-02-29T17:53:00',\n",
       "   'matchNumber': 46,\n",
       "   'teams': [{'teamNumber': 5588, 'station': 'Red1', 'surrogate': False},\n",
       "    {'teamNumber': 492, 'station': 'Red2', 'surrogate': False},\n",
       "    {'teamNumber': 1294, 'station': 'Red3', 'surrogate': False},\n",
       "    {'teamNumber': 2910, 'station': 'Blue1', 'surrogate': False},\n",
       "    {'teamNumber': 4915, 'station': 'Blue2', 'surrogate': False},\n",
       "    {'teamNumber': 2930, 'station': 'Blue3', 'surrogate': False}]},\n",
       "  {'description': 'Qualification 47',\n",
       "   'field': 'Primary',\n",
       "   'tournamentLevel': 'Qualification',\n",
       "   'startTime': '2020-02-29T18:00:00',\n",
       "   'matchNumber': 47,\n",
       "   'teams': [{'teamNumber': 4683, 'station': 'Red1', 'surrogate': False},\n",
       "    {'teamNumber': 4681, 'station': 'Red2', 'surrogate': False},\n",
       "    {'teamNumber': 3070, 'station': 'Red3', 'surrogate': False},\n",
       "    {'teamNumber': 4911, 'station': 'Blue1', 'surrogate': False},\n",
       "    {'teamNumber': 2412, 'station': 'Blue2', 'surrogate': False},\n",
       "    {'teamNumber': 3826, 'station': 'Blue3', 'surrogate': False}]},\n",
       "  {'description': 'Qualification 48',\n",
       "   'field': 'Primary',\n",
       "   'tournamentLevel': 'Qualification',\n",
       "   'startTime': '2020-02-29T18:07:00',\n",
       "   'matchNumber': 48,\n",
       "   'teams': [{'teamNumber': 4173, 'station': 'Red1', 'surrogate': False},\n",
       "    {'teamNumber': 4180, 'station': 'Red2', 'surrogate': False},\n",
       "    {'teamNumber': 2928, 'station': 'Red3', 'surrogate': False},\n",
       "    {'teamNumber': 4205, 'station': 'Blue1', 'surrogate': False},\n",
       "    {'teamNumber': 4513, 'station': 'Blue2', 'surrogate': False},\n",
       "    {'teamNumber': 1778, 'station': 'Blue3', 'surrogate': False}]},\n",
       "  {'description': 'Qualification 49',\n",
       "   'field': 'Primary',\n",
       "   'tournamentLevel': 'Qualification',\n",
       "   'startTime': '2020-02-29T18:14:00',\n",
       "   'matchNumber': 49,\n",
       "   'teams': [{'teamNumber': 7627, 'station': 'Red1', 'surrogate': False},\n",
       "    {'teamNumber': 1899, 'station': 'Red2', 'surrogate': False},\n",
       "    {'teamNumber': 4512, 'station': 'Red3', 'surrogate': False},\n",
       "    {'teamNumber': 8032, 'station': 'Blue1', 'surrogate': False},\n",
       "    {'teamNumber': 8059, 'station': 'Blue2', 'surrogate': False},\n",
       "    {'teamNumber': 2976, 'station': 'Blue3', 'surrogate': False}]},\n",
       "  {'description': 'Qualification 50',\n",
       "   'field': 'Primary',\n",
       "   'tournamentLevel': 'Qualification',\n",
       "   'startTime': '2020-02-29T18:21:00',\n",
       "   'matchNumber': 50,\n",
       "   'teams': [{'teamNumber': 4918, 'station': 'Red1', 'surrogate': False},\n",
       "    {'teamNumber': 2910, 'station': 'Red2', 'surrogate': False},\n",
       "    {'teamNumber': 7118, 'station': 'Red3', 'surrogate': False},\n",
       "    {'teamNumber': 4089, 'station': 'Blue1', 'surrogate': False},\n",
       "    {'teamNumber': 7461, 'station': 'Blue2', 'surrogate': False},\n",
       "    {'teamNumber': 4915, 'station': 'Blue3', 'surrogate': False}]},\n",
       "  {'description': 'Qualification 51',\n",
       "   'field': 'Primary',\n",
       "   'tournamentLevel': 'Qualification',\n",
       "   'startTime': '2020-02-29T18:28:00',\n",
       "   'matchNumber': 51,\n",
       "   'teams': [{'teamNumber': 4681, 'station': 'Red1', 'surrogate': False},\n",
       "    {'teamNumber': 4513, 'station': 'Red2', 'surrogate': False},\n",
       "    {'teamNumber': 8248, 'station': 'Red3', 'surrogate': False},\n",
       "    {'teamNumber': 4131, 'station': 'Blue1', 'surrogate': False},\n",
       "    {'teamNumber': 2928, 'station': 'Blue2', 'surrogate': False},\n",
       "    {'teamNumber': 5588, 'station': 'Blue3', 'surrogate': False}]},\n",
       "  {'description': 'Qualification 52',\n",
       "   'field': 'Primary',\n",
       "   'tournamentLevel': 'Qualification',\n",
       "   'startTime': '2020-02-29T18:35:00',\n",
       "   'matchNumber': 52,\n",
       "   'teams': [{'teamNumber': 492, 'station': 'Red1', 'surrogate': False},\n",
       "    {'teamNumber': 3070, 'station': 'Red2', 'surrogate': False},\n",
       "    {'teamNumber': 2903, 'station': 'Red3', 'surrogate': False},\n",
       "    {'teamNumber': 1318, 'station': 'Blue1', 'surrogate': False},\n",
       "    {'teamNumber': 2930, 'station': 'Blue2', 'surrogate': False},\n",
       "    {'teamNumber': 4682, 'station': 'Blue3', 'surrogate': False}]},\n",
       "  {'description': 'Qualification 53',\n",
       "   'field': 'Primary',\n",
       "   'tournamentLevel': 'Qualification',\n",
       "   'startTime': '2020-02-29T18:42:00',\n",
       "   'matchNumber': 53,\n",
       "   'teams': [{'teamNumber': 4309, 'station': 'Red1', 'surrogate': False},\n",
       "    {'teamNumber': 8032, 'station': 'Red2', 'surrogate': False},\n",
       "    {'teamNumber': 4205, 'station': 'Red3', 'surrogate': False},\n",
       "    {'teamNumber': 3268, 'station': 'Blue1', 'surrogate': False},\n",
       "    {'teamNumber': 4911, 'station': 'Blue2', 'surrogate': False},\n",
       "    {'teamNumber': 1294, 'station': 'Blue3', 'surrogate': False}]},\n",
       "  {'description': 'Qualification 54',\n",
       "   'field': 'Primary',\n",
       "   'tournamentLevel': 'Qualification',\n",
       "   'startTime': '2020-02-29T18:49:00',\n",
       "   'matchNumber': 54,\n",
       "   'teams': [{'teamNumber': 4180, 'station': 'Red1', 'surrogate': False},\n",
       "    {'teamNumber': 7627, 'station': 'Red2', 'surrogate': False},\n",
       "    {'teamNumber': 2522, 'station': 'Red3', 'surrogate': False},\n",
       "    {'teamNumber': 3826, 'station': 'Blue1', 'surrogate': False},\n",
       "    {'teamNumber': 4683, 'station': 'Blue2', 'surrogate': False},\n",
       "    {'teamNumber': 2976, 'station': 'Blue3', 'surrogate': False}]},\n",
       "  {'description': 'Qualification 55',\n",
       "   'field': 'Primary',\n",
       "   'tournamentLevel': 'Qualification',\n",
       "   'startTime': '2020-02-29T18:56:00',\n",
       "   'matchNumber': 55,\n",
       "   'teams': [{'teamNumber': 4173, 'station': 'Red1', 'surrogate': False},\n",
       "    {'teamNumber': 8059, 'station': 'Red2', 'surrogate': False},\n",
       "    {'teamNumber': 1778, 'station': 'Red3', 'surrogate': False},\n",
       "    {'teamNumber': 2412, 'station': 'Blue1', 'surrogate': False},\n",
       "    {'teamNumber': 4918, 'station': 'Blue2', 'surrogate': False},\n",
       "    {'teamNumber': 1899, 'station': 'Blue3', 'surrogate': False}]},\n",
       "  {'description': 'Qualification 56',\n",
       "   'field': 'Primary',\n",
       "   'tournamentLevel': 'Qualification',\n",
       "   'startTime': '2020-02-29T19:03:00',\n",
       "   'matchNumber': 56,\n",
       "   'teams': [{'teamNumber': 4512, 'station': 'Red1', 'surrogate': False},\n",
       "    {'teamNumber': 4089, 'station': 'Red2', 'surrogate': False},\n",
       "    {'teamNumber': 4513, 'station': 'Red3', 'surrogate': False},\n",
       "    {'teamNumber': 949, 'station': 'Blue1', 'surrogate': False},\n",
       "    {'teamNumber': 4681, 'station': 'Blue2', 'surrogate': False},\n",
       "    {'teamNumber': 2903, 'station': 'Blue3', 'surrogate': False}]},\n",
       "  {'description': 'Qualification 57',\n",
       "   'field': 'Primary',\n",
       "   'tournamentLevel': 'Qualification',\n",
       "   'startTime': '2020-02-29T19:10:00',\n",
       "   'matchNumber': 57,\n",
       "   'teams': [{'teamNumber': 4911, 'station': 'Red1', 'surrogate': False},\n",
       "    {'teamNumber': 4309, 'station': 'Red2', 'surrogate': False},\n",
       "    {'teamNumber': 7627, 'station': 'Red3', 'surrogate': False},\n",
       "    {'teamNumber': 1318, 'station': 'Blue1', 'surrogate': False},\n",
       "    {'teamNumber': 4915, 'station': 'Blue2', 'surrogate': False},\n",
       "    {'teamNumber': 2928, 'station': 'Blue3', 'surrogate': False}]},\n",
       "  {'description': 'Qualification 58',\n",
       "   'field': 'Primary',\n",
       "   'tournamentLevel': 'Qualification',\n",
       "   'startTime': '2020-02-29T19:17:00',\n",
       "   'matchNumber': 58,\n",
       "   'teams': [{'teamNumber': 4205, 'station': 'Red1', 'surrogate': False},\n",
       "    {'teamNumber': 3826, 'station': 'Red2', 'surrogate': False},\n",
       "    {'teamNumber': 2522, 'station': 'Red3', 'surrogate': False},\n",
       "    {'teamNumber': 8059, 'station': 'Blue1', 'surrogate': False},\n",
       "    {'teamNumber': 7461, 'station': 'Blue2', 'surrogate': False},\n",
       "    {'teamNumber': 492, 'station': 'Blue3', 'surrogate': False}]},\n",
       "  {'description': 'Qualification 59',\n",
       "   'field': 'Primary',\n",
       "   'tournamentLevel': 'Qualification',\n",
       "   'startTime': '2020-02-29T19:24:00',\n",
       "   'matchNumber': 59,\n",
       "   'teams': [{'teamNumber': 4918, 'station': 'Red1', 'surrogate': False},\n",
       "    {'teamNumber': 8032, 'station': 'Red2', 'surrogate': False},\n",
       "    {'teamNumber': 1778, 'station': 'Red3', 'surrogate': False},\n",
       "    {'teamNumber': 2930, 'station': 'Blue1', 'surrogate': False},\n",
       "    {'teamNumber': 8248, 'station': 'Blue2', 'surrogate': False},\n",
       "    {'teamNumber': 4131, 'station': 'Blue3', 'surrogate': False}]},\n",
       "  {'description': 'Qualification 60',\n",
       "   'field': 'Primary',\n",
       "   'tournamentLevel': 'Qualification',\n",
       "   'startTime': '2020-03-01T09:30:00',\n",
       "   'matchNumber': 60,\n",
       "   'teams': [{'teamNumber': 3268, 'station': 'Red1', 'surrogate': False},\n",
       "    {'teamNumber': 4173, 'station': 'Red2', 'surrogate': False},\n",
       "    {'teamNumber': 4683, 'station': 'Red3', 'surrogate': False},\n",
       "    {'teamNumber': 949, 'station': 'Blue1', 'surrogate': False},\n",
       "    {'teamNumber': 2910, 'station': 'Blue2', 'surrogate': False},\n",
       "    {'teamNumber': 5588, 'station': 'Blue3', 'surrogate': False}]},\n",
       "  {'description': 'Qualification 61',\n",
       "   'field': 'Primary',\n",
       "   'tournamentLevel': 'Qualification',\n",
       "   'startTime': '2020-03-01T09:39:00',\n",
       "   'matchNumber': 61,\n",
       "   'teams': [{'teamNumber': 3070, 'station': 'Red1', 'surrogate': False},\n",
       "    {'teamNumber': 4512, 'station': 'Red2', 'surrogate': False},\n",
       "    {'teamNumber': 4180, 'station': 'Red3', 'surrogate': False},\n",
       "    {'teamNumber': 4089, 'station': 'Blue1', 'surrogate': False},\n",
       "    {'teamNumber': 1899, 'station': 'Blue2', 'surrogate': False},\n",
       "    {'teamNumber': 4682, 'station': 'Blue3', 'surrogate': False}]},\n",
       "  {'description': 'Qualification 62',\n",
       "   'field': 'Primary',\n",
       "   'tournamentLevel': 'Qualification',\n",
       "   'startTime': '2020-03-01T09:48:00',\n",
       "   'matchNumber': 62,\n",
       "   'teams': [{'teamNumber': 1294, 'station': 'Red1', 'surrogate': False},\n",
       "    {'teamNumber': 2976, 'station': 'Red2', 'surrogate': False},\n",
       "    {'teamNumber': 7627, 'station': 'Red3', 'surrogate': False},\n",
       "    {'teamNumber': 2412, 'station': 'Blue1', 'surrogate': False},\n",
       "    {'teamNumber': 7118, 'station': 'Blue2', 'surrogate': False},\n",
       "    {'teamNumber': 4915, 'station': 'Blue3', 'surrogate': False}]},\n",
       "  {'description': 'Qualification 63',\n",
       "   'field': 'Primary',\n",
       "   'tournamentLevel': 'Qualification',\n",
       "   'startTime': '2020-03-01T09:55:00',\n",
       "   'matchNumber': 63,\n",
       "   'teams': [{'teamNumber': 8059, 'station': 'Red1', 'surrogate': False},\n",
       "    {'teamNumber': 949, 'station': 'Red2', 'surrogate': False},\n",
       "    {'teamNumber': 2930, 'station': 'Red3', 'surrogate': False},\n",
       "    {'teamNumber': 3826, 'station': 'Blue1', 'surrogate': False},\n",
       "    {'teamNumber': 1778, 'station': 'Blue2', 'surrogate': False},\n",
       "    {'teamNumber': 4681, 'station': 'Blue3', 'surrogate': False}]},\n",
       "  {'description': 'Qualification 64',\n",
       "   'field': 'Primary',\n",
       "   'tournamentLevel': 'Qualification',\n",
       "   'startTime': '2020-03-01T10:02:00',\n",
       "   'matchNumber': 64,\n",
       "   'teams': [{'teamNumber': 1899, 'station': 'Red1', 'surrogate': False},\n",
       "    {'teamNumber': 5588, 'station': 'Red2', 'surrogate': False},\n",
       "    {'teamNumber': 4205, 'station': 'Red3', 'surrogate': False},\n",
       "    {'teamNumber': 2903, 'station': 'Blue1', 'surrogate': False},\n",
       "    {'teamNumber': 4309, 'station': 'Blue2', 'surrogate': False},\n",
       "    {'teamNumber': 4683, 'station': 'Blue3', 'surrogate': False}]},\n",
       "  {'description': 'Qualification 65',\n",
       "   'field': 'Primary',\n",
       "   'tournamentLevel': 'Qualification',\n",
       "   'startTime': '2020-03-01T10:09:00',\n",
       "   'matchNumber': 65,\n",
       "   'teams': [{'teamNumber': 2976, 'station': 'Red1', 'surrogate': False},\n",
       "    {'teamNumber': 7461, 'station': 'Red2', 'surrogate': False},\n",
       "    {'teamNumber': 4911, 'station': 'Red3', 'surrogate': False},\n",
       "    {'teamNumber': 1294, 'station': 'Blue1', 'surrogate': False},\n",
       "    {'teamNumber': 4089, 'station': 'Blue2', 'surrogate': False},\n",
       "    {'teamNumber': 4173, 'station': 'Blue3', 'surrogate': False}]},\n",
       "  {'description': 'Qualification 66',\n",
       "   'field': 'Primary',\n",
       "   'tournamentLevel': 'Qualification',\n",
       "   'startTime': '2020-03-01T10:16:00',\n",
       "   'matchNumber': 66,\n",
       "   'teams': [{'teamNumber': 4180, 'station': 'Red1', 'surrogate': False},\n",
       "    {'teamNumber': 4513, 'station': 'Red2', 'surrogate': False},\n",
       "    {'teamNumber': 1318, 'station': 'Red3', 'surrogate': False},\n",
       "    {'teamNumber': 4918, 'station': 'Blue1', 'surrogate': False},\n",
       "    {'teamNumber': 4682, 'station': 'Blue2', 'surrogate': False},\n",
       "    {'teamNumber': 3268, 'station': 'Blue3', 'surrogate': False}]},\n",
       "  {'description': 'Qualification 67',\n",
       "   'field': 'Primary',\n",
       "   'tournamentLevel': 'Qualification',\n",
       "   'startTime': '2020-03-01T10:23:00',\n",
       "   'matchNumber': 67,\n",
       "   'teams': [{'teamNumber': 8248, 'station': 'Red1', 'surrogate': False},\n",
       "    {'teamNumber': 2412, 'station': 'Red2', 'surrogate': False},\n",
       "    {'teamNumber': 2928, 'station': 'Red3', 'surrogate': False},\n",
       "    {'teamNumber': 2522, 'station': 'Blue1', 'surrogate': False},\n",
       "    {'teamNumber': 2910, 'station': 'Blue2', 'surrogate': False},\n",
       "    {'teamNumber': 4512, 'station': 'Blue3', 'surrogate': False}]},\n",
       "  {'description': 'Qualification 68',\n",
       "   'field': 'Primary',\n",
       "   'tournamentLevel': 'Qualification',\n",
       "   'startTime': '2020-03-01T10:30:00',\n",
       "   'matchNumber': 68,\n",
       "   'teams': [{'teamNumber': 492, 'station': 'Red1', 'surrogate': False},\n",
       "    {'teamNumber': 8032, 'station': 'Red2', 'surrogate': False},\n",
       "    {'teamNumber': 4131, 'station': 'Red3', 'surrogate': False},\n",
       "    {'teamNumber': 3070, 'station': 'Blue1', 'surrogate': False},\n",
       "    {'teamNumber': 7118, 'station': 'Blue2', 'surrogate': False},\n",
       "    {'teamNumber': 7461, 'station': 'Blue3', 'surrogate': False}]},\n",
       "  {'description': 'Qualification 69',\n",
       "   'field': 'Primary',\n",
       "   'tournamentLevel': 'Qualification',\n",
       "   'startTime': '2020-03-01T10:37:00',\n",
       "   'matchNumber': 69,\n",
       "   'teams': [{'teamNumber': 5588, 'station': 'Red1', 'surrogate': False},\n",
       "    {'teamNumber': 2903, 'station': 'Red2', 'surrogate': False},\n",
       "    {'teamNumber': 8059, 'station': 'Red3', 'surrogate': False},\n",
       "    {'teamNumber': 3268, 'station': 'Blue1', 'surrogate': False},\n",
       "    {'teamNumber': 2976, 'station': 'Blue2', 'surrogate': False},\n",
       "    {'teamNumber': 4180, 'station': 'Blue3', 'surrogate': False}]},\n",
       "  {'description': 'Qualification 70',\n",
       "   'field': 'Primary',\n",
       "   'tournamentLevel': 'Qualification',\n",
       "   'startTime': '2020-03-01T10:44:00',\n",
       "   'matchNumber': 70,\n",
       "   'teams': [{'teamNumber': 7627, 'station': 'Red1', 'surrogate': False},\n",
       "    {'teamNumber': 949, 'station': 'Red2', 'surrogate': False},\n",
       "    {'teamNumber': 4089, 'station': 'Red3', 'surrogate': False},\n",
       "    {'teamNumber': 4205, 'station': 'Blue1', 'surrogate': False},\n",
       "    {'teamNumber': 2930, 'station': 'Blue2', 'surrogate': False},\n",
       "    {'teamNumber': 2412, 'station': 'Blue3', 'surrogate': False}]},\n",
       "  {'description': 'Qualification 71',\n",
       "   'field': 'Primary',\n",
       "   'tournamentLevel': 'Qualification',\n",
       "   'startTime': '2020-03-01T10:51:00',\n",
       "   'matchNumber': 71,\n",
       "   'teams': [{'teamNumber': 3826, 'station': 'Red1', 'surrogate': False},\n",
       "    {'teamNumber': 8248, 'station': 'Red2', 'surrogate': False},\n",
       "    {'teamNumber': 4915, 'station': 'Red3', 'surrogate': False},\n",
       "    {'teamNumber': 4173, 'station': 'Blue1', 'surrogate': False},\n",
       "    {'teamNumber': 3070, 'station': 'Blue2', 'surrogate': False},\n",
       "    {'teamNumber': 1899, 'station': 'Blue3', 'surrogate': False}]},\n",
       "  {'description': 'Qualification 72',\n",
       "   'field': 'Primary',\n",
       "   'tournamentLevel': 'Qualification',\n",
       "   'startTime': '2020-03-01T10:58:00',\n",
       "   'matchNumber': 72,\n",
       "   'teams': [{'teamNumber': 4911, 'station': 'Red1', 'surrogate': False},\n",
       "    {'teamNumber': 4682, 'station': 'Red2', 'surrogate': False},\n",
       "    {'teamNumber': 7118, 'station': 'Red3', 'surrogate': False},\n",
       "    {'teamNumber': 4131, 'station': 'Blue1', 'surrogate': False},\n",
       "    {'teamNumber': 1778, 'station': 'Blue2', 'surrogate': False},\n",
       "    {'teamNumber': 2522, 'station': 'Blue3', 'surrogate': False}]},\n",
       "  {'description': 'Qualification 73',\n",
       "   'field': 'Primary',\n",
       "   'tournamentLevel': 'Qualification',\n",
       "   'startTime': '2020-03-01T11:05:00',\n",
       "   'matchNumber': 73,\n",
       "   'teams': [{'teamNumber': 4683, 'station': 'Red1', 'surrogate': False},\n",
       "    {'teamNumber': 1294, 'station': 'Red2', 'surrogate': False},\n",
       "    {'teamNumber': 2928, 'station': 'Red3', 'surrogate': False},\n",
       "    {'teamNumber': 4512, 'station': 'Blue1', 'surrogate': False},\n",
       "    {'teamNumber': 4918, 'station': 'Blue2', 'surrogate': False},\n",
       "    {'teamNumber': 492, 'station': 'Blue3', 'surrogate': False}]},\n",
       "  {'description': 'Qualification 74',\n",
       "   'field': 'Primary',\n",
       "   'tournamentLevel': 'Qualification',\n",
       "   'startTime': '2020-03-01T11:12:00',\n",
       "   'matchNumber': 74,\n",
       "   'teams': [{'teamNumber': 2910, 'station': 'Red1', 'surrogate': False},\n",
       "    {'teamNumber': 4513, 'station': 'Red2', 'surrogate': False},\n",
       "    {'teamNumber': 8032, 'station': 'Red3', 'surrogate': False},\n",
       "    {'teamNumber': 4309, 'station': 'Blue1', 'surrogate': False},\n",
       "    {'teamNumber': 1318, 'station': 'Blue2', 'surrogate': False},\n",
       "    {'teamNumber': 4681, 'station': 'Blue3', 'surrogate': False}]}]}"
      ]
     },
     "execution_count": 278,
     "metadata": {},
     "output_type": "execute_result"
    }
   ],
   "source": [
    "# Ex VI.2\n",
    "import json\n",
    "\n",
    "file = open(\"data/wasno2020.json\")\n",
    "comp = json.load(file)\n",
    "print(\"Match Number\".rjust(20),\n",
    "      \"Red Alliance\".center(20),\n",
    "      \"Blue Alliance\".ljust(20),\n",
    "      sep = \" | \")\n",
    "print(\"-\"*20, \"-\"*20, \"-\"*20, sep = \"-|-\")\n",
    "for mtch in comp[\"Schedule\"]:\n",
    "    print((str(mtch[\"matchNumber\"])).rjust(20), \"|\" ,end = \" \")\n",
    "    for team in mtch[\"teams\"]:\n",
    "        if team[\"station\"].startswith(\"Red\"):\n",
    "            print((str(team[\"teamNumber\"])).center(6), end = \" \")\n",
    "    print(end = \"| \")\n",
    "    for team in mtch[\"teams\"]:\n",
    "        if team[\"station\"].startswith(\"Blue\"):\n",
    "            print((str(team[\"teamNumber\"])).ljust(6), end = \" \")\n",
    "    print()\n",
    "comp"
   ]
  },
  {
   "cell_type": "markdown",
   "metadata": {},
   "source": [
    "**Ex. VI.3.** Capitalize the first letter of each line in the verse below.\n",
    "* Consider using the `.splitlines()` and `.join()` methods."
   ]
  },
  {
   "cell_type": "code",
   "execution_count": 179,
   "metadata": {},
   "outputs": [
    {
     "name": "stdout",
     "output_type": "stream",
     "text": [
      "\n",
      "We tried to disconnect it, \n",
      "But it was to no avail, \n",
      "It picked us up and dropped us \n",
      "In an empty garbage pail, \n",
      "We cannot stop that robot, \n",
      "For we’re stymied by one hitch…. \n",
      "My brother didn’t bother \n",
      "To equip it with a switch.\n"
     ]
    }
   ],
   "source": [
    "# Ex VI.3\n",
    "v4 = \"\"\"\n",
    "We tried to disconnect it, \n",
    "but it was to no avail, \n",
    "it picked us up and dropped us \n",
    "in an empty garbage pail, \n",
    "we cannot stop that robot, \n",
    "for we’re stymied by one hitch…. \n",
    "my brother didn’t bother \n",
    "to equip it with a switch.\n",
    "\"\"\"\n",
    "lines = v4.splitlines()\n",
    "vList = []\n",
    "for line in lines:\n",
    "    vList.append(line.capitalize())\n",
    "v5 = \"\\n\".join(vList)\n",
    "print(v5)"
   ]
  },
  {
   "cell_type": "markdown",
   "metadata": {},
   "source": [
    "**Ex VI.4.** Replace the word \"robot\" in the verse from exercise VI.3 with \"machine\"."
   ]
  },
  {
   "cell_type": "code",
   "execution_count": 182,
   "metadata": {},
   "outputs": [
    {
     "name": "stdout",
     "output_type": "stream",
     "text": [
      "\n",
      "We tried to disconnect it, \n",
      "But it was to no avail, \n",
      "It picked us up and dropped us \n",
      "In an empty garbage pail, \n",
      "We cannot stop that machine, \n",
      "For we’re stymied by one hitch…. \n",
      "My brother didn’t bother \n",
      "To equip it with a switch.\n"
     ]
    }
   ],
   "source": [
    "# Ex VI.4\n",
    "v6 = v5.replace(\"robot\", \"machine\")\n",
    "print(v6)\n"
   ]
  },
  {
   "cell_type": "markdown",
   "metadata": {},
   "source": [
    "## VII. Quiz\n",
    "Answer the following questions by typing the answers as comments in the code block below each question."
   ]
  },
  {
   "cell_type": "markdown",
   "metadata": {},
   "source": [
    "**#1.** Why does the line below throw an error? How code it be fixed?  \n",
    "`print(\"The cube of 5 is \" + 5**3)`"
   ]
  },
  {
   "cell_type": "code",
   "execution_count": 187,
   "metadata": {},
   "outputs": [
    {
     "name": "stdout",
     "output_type": "stream",
     "text": [
      "The cube of 5 is 125\n"
     ]
    }
   ],
   "source": [
    "# Q.1\n",
    "#The error is that it can only concatenate str to str and not int to str\n",
    "#The code can be fixed if you replace the \"+\" with a \",\" and remove the space after \"is\""
   ]
  },
  {
   "cell_type": "markdown",
   "metadata": {},
   "source": [
    "**#2.** Most of the world's languages can be represented with two-byte Unicode sequences. What is the maximum number of code points that could be encoded with a two byte sequence?"
   ]
  },
  {
   "cell_type": "code",
   "execution_count": 188,
   "metadata": {},
   "outputs": [],
   "source": [
    "# Q.2\n",
    "#16 code points\n"
   ]
  },
  {
   "cell_type": "markdown",
   "metadata": {},
   "source": [
    "**#3.** What are some common whitespace characters? How can you remove whitespace characters from both ends of a string?"
   ]
  },
  {
   "cell_type": "code",
   "execution_count": null,
   "metadata": {},
   "outputs": [],
   "source": [
    "# Q.3\n",
    "#Common whitespace characters are \\n and \\t. You can remove whitespace characters by using the methods dedent(), rstrip(),\n",
    "#lstrip(), and strip().\n"
   ]
  },
  {
   "cell_type": "markdown",
   "metadata": {},
   "source": [
    "**#4.** What do the following format strings print, exactly? Try to figure it out without running it.\n",
    "\n",
    "  A. `f\"{1/3:.3%}\"`  \n",
    "  B. `f\"{1000**2:.3E}\"`  \n",
    "  C. `f\"{1318:x}\"`\n",
    "  D. `f\"|{5**3:^7}|\"`"
   ]
  },
  {
   "cell_type": "code",
   "execution_count": 194,
   "metadata": {},
   "outputs": [],
   "source": [
    "# Q.4\n",
    "#A: 33.333%\n",
    "#B: 1.000E+06\n",
    "#C: 526\n",
    "#D: |  125  |"
   ]
  },
  {
   "cell_type": "markdown",
   "metadata": {},
   "source": [
    "**#5.** The `.center()`, `.ljust()`, and `.rjust()` string methods all take a second, optional parameter? What is this parameter for? Refer to the [Python Standard Library documentation](https://docs.python.org/3/library/index.html) to answer this question. Look in *Built-in Types->Text Sequence Type*."
   ]
  },
  {
   "cell_type": "code",
   "execution_count": null,
   "metadata": {},
   "outputs": [],
   "source": [
    "# Q.5\n",
    "# The second optional parameter is fillchar. This parameter is the type of character you would use when padding a string."
   ]
  },
  {
   "cell_type": "markdown",
   "metadata": {},
   "source": [
    "**6. The `.strip()` string method has two optional, named arguments. What are they named and what do they do? Refer to the [Python Standard Library documentation](https://docs.python.org/3/library/index.html) to answer this question."
   ]
  },
  {
   "cell_type": "code",
   "execution_count": null,
   "metadata": {},
   "outputs": [],
   "source": [
    "# Q.6\n",
    "# The optional argument is chars which is the type of character that will removed from the leading or trailing characters\n",
    "# otherwise the argument defaults to the whitespace.\n"
   ]
  },
  {
   "cell_type": "markdown",
   "metadata": {},
   "source": [
    "**6. The `.find()` string method has two optional, named arguments. What are they named and what do they do? Refer to the Python Standard Library documentation to answer this question."
   ]
  },
  {
   "cell_type": "code",
   "execution_count": null,
   "metadata": {},
   "outputs": [],
   "source": [
    "# Q.7\n",
    "# The optional arguments are sub, start, and end. Sub is the character(s) being found, start and stop are the portion of\n",
    "# the string to be used as start is the beginning and end is the end.\n"
   ]
  },
  {
   "cell_type": "markdown",
   "metadata": {},
   "source": [
    "## VIII. Save Your Work\n",
    "Once you have completed the exercises, save a copy of the notebook outside of the git repository (outside of the *pyclass_frc* folder). Include your name in the file name. Send the notebook file to another student to check your answers."
   ]
  },
  {
   "cell_type": "markdown",
   "metadata": {},
   "source": [
    "## IX. Concept and Terminology Review\n",
    "You should be able to define the following terms or describe the concept.\n",
    "* Escape sequences\n",
    "* Multi-line strings\n",
    "* Raw strings\n",
    "* Newline character\n",
    "* Tab character\n",
    "* String concatenation\n",
    "* F-strings\n",
    "* `.format()` method\n",
    "* Format specifications\n",
    "* `.join()` method\n",
    "* Binary numbers\n",
    "* Octal numbers\n",
    "* Hexadecimal numbers\n",
    "* ASCII\n",
    "* Unicode\n",
    "* UTF-8, UTF-16, and UTF-32\n",
    "* String slicing\n",
    "* String methods\n",
    "* String constants"
   ]
  },
  {
   "cell_type": "markdown",
   "metadata": {},
   "source": [
    "[Table of Contents](../../index.ipynb)"
   ]
  }
 ],
 "metadata": {
  "kernelspec": {
   "display_name": "Python 3 (ipykernel)",
   "language": "python",
   "name": "python3"
  },
  "language_info": {
   "codemirror_mode": {
    "name": "ipython",
    "version": 3
   },
   "file_extension": ".py",
   "mimetype": "text/x-python",
   "name": "python",
   "nbconvert_exporter": "python",
   "pygments_lexer": "ipython3",
   "version": "3.9.7"
  }
 },
 "nbformat": 4,
 "nbformat_minor": 4
}
